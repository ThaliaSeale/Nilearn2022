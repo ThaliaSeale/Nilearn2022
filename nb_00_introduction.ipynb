{
 "cells": [
  {
   "cell_type": "markdown",
   "metadata": {},
   "source": [
    "# Imaging with Nilearn\n",
    "\n",
    "Welcome to the Imaging with Nilearn course 2022!\n",
    "\n",
    "In the `Nilearn2022` folder you will find this and 2 other notebooks. Each notebook will introduce you to a different type of statistical analysis in fMRI and show you how to analyze fMRI data using the `Nilearn` package. \n",
    "\n",
    "The first notebook will begin by talking you through the basics of the `Nibabel` and `Nilearn` packages. After this, we will cover in detail first-level analyses. The second notebook will show you how to perform a second-level analysis and give further discussion of statistic values and thresholding your images."
   ]
  },
  {
   "cell_type": "markdown",
   "metadata": {},
   "source": [
    "## Table of contents:\n",
    "\n",
    " - [**Notebook 0: Introduction**](./nb_00_introduction.ipynb)\n",
    "   - [Setup](#Setup)\n",
    "   - [Using the notebooks](#Using-the-Notebooks)\n",
    "   - [Contact and Feedback](#Contact-and-Feedback)\n",
    "   - [Acknowledgements](#Acknowledgements)\n",
    "   \n",
    "   \n",
    " - [Notebook 1: FMRI Data and First-Level Analysis](./nb_01_fmri_data_and_first_level_analysis.ipynb)\n",
    " - [Notebook 2: Second-Level Analysis](./nb_02_second_level_analysis.ipynb)"
   ]
  },
  {
   "cell_type": "markdown",
   "metadata": {},
   "source": [
    "## Setup"
   ]
  },
  {
   "cell_type": "markdown",
   "metadata": {},
   "source": [
    "To get started let's install `nibabel` and `nilearn`! Today we will mainly be focusing on `nilearn` but `nibabel` is also going to be useful for working with fMRI imaging files! Here's a brief description of each of these packages:\n",
    "\n",
    " - `Nibabel` provides support for reading and writing to neuroimaging file formats.\n",
    " - `Nilearn` provides tools for statistical learning on neuroimaging data."
   ]
  },
  {
   "cell_type": "code",
   "execution_count": 1,
   "metadata": {},
   "outputs": [
    {
     "name": "stdout",
     "output_type": "stream",
     "text": [
      "Collecting nibabel\n",
      "  Downloading nibabel-4.0.2-py3-none-any.whl (3.3 MB)\n",
      "\u001b[2K     \u001b[90m━━━━━━━━━━━━━━━━━━━━━━━━━━━━━━━━━━━━━━━━\u001b[0m \u001b[32m3.3/3.3 MB\u001b[0m \u001b[31m55.1 MB/s\u001b[0m eta \u001b[36m0:00:00\u001b[0ma \u001b[36m0:00:01\u001b[0m\n",
      "\u001b[?25hCollecting numpy>=1.17\n",
      "  Downloading numpy-1.23.4-cp39-cp39-macosx_10_9_x86_64.whl (18.1 MB)\n",
      "\u001b[2K     \u001b[90m━━━━━━━━━━━━━━━━━━━━━━━━━━━━━━━━━━━━━━━━\u001b[0m \u001b[32m18.1/18.1 MB\u001b[0m \u001b[31m75.4 MB/s\u001b[0m eta \u001b[36m0:00:00\u001b[0m00:01\u001b[0m00:01\u001b[0m\n",
      "\u001b[?25hRequirement already satisfied: setuptools in ./nilearn/lib/python3.9/site-packages (from nibabel) (65.5.0)\n",
      "Requirement already satisfied: packaging>=17.0 in ./nilearn/lib/python3.9/site-packages (from nibabel) (21.3)\n",
      "Requirement already satisfied: pyparsing!=3.0.5,>=2.0.2 in ./nilearn/lib/python3.9/site-packages (from packaging>=17.0->nibabel) (3.0.9)\n",
      "Installing collected packages: numpy, nibabel\n",
      "Successfully installed nibabel-4.0.2 numpy-1.23.4\n",
      "Collecting nilearn\n",
      "  Downloading nilearn-0.9.2-py3-none-any.whl (9.6 MB)\n",
      "\u001b[2K     \u001b[90m━━━━━━━━━━━━━━━━━━━━━━━━━━━━━━━━━━━━━━━━\u001b[0m \u001b[32m9.6/9.6 MB\u001b[0m \u001b[31m73.3 MB/s\u001b[0m eta \u001b[36m0:00:00\u001b[0m00:01\u001b[0m:00:01\u001b[0m\n",
      "\u001b[?25hCollecting lxml\n",
      "  Downloading lxml-4.9.1-cp39-cp39-macosx_10_15_x86_64.whl (4.6 MB)\n",
      "\u001b[2K     \u001b[90m━━━━━━━━━━━━━━━━━━━━━━━━━━━━━━━━━━━━━━━━\u001b[0m \u001b[32m4.6/4.6 MB\u001b[0m \u001b[31m78.9 MB/s\u001b[0m eta \u001b[36m0:00:00\u001b[0mta \u001b[36m0:00:01\u001b[0m\n",
      "\u001b[?25hCollecting scikit-learn>=0.22\n",
      "  Downloading scikit_learn-1.1.2-cp39-cp39-macosx_10_9_x86_64.whl (8.7 MB)\n",
      "\u001b[2K     \u001b[90m━━━━━━━━━━━━━━━━━━━━━━━━━━━━━━━━━━━━━━━━\u001b[0m \u001b[32m8.7/8.7 MB\u001b[0m \u001b[31m81.4 MB/s\u001b[0m eta \u001b[36m0:00:00\u001b[0mta \u001b[36m0:00:01\u001b[0m\n",
      "\u001b[?25hRequirement already satisfied: numpy>=1.18 in ./nilearn/lib/python3.9/site-packages (from nilearn) (1.23.4)\n",
      "Collecting joblib>=0.15\n",
      "  Downloading joblib-1.2.0-py3-none-any.whl (297 kB)\n",
      "\u001b[2K     \u001b[90m━━━━━━━━━━━━━━━━━━━━━━━━━━━━━━━━━━━━━━\u001b[0m \u001b[32m298.0/298.0 kB\u001b[0m \u001b[31m16.0 MB/s\u001b[0m eta \u001b[36m0:00:00\u001b[0m\n",
      "\u001b[?25hRequirement already satisfied: nibabel>=3.0.0 in ./nilearn/lib/python3.9/site-packages (from nilearn) (4.0.2)\n",
      "Collecting requests>=2\n",
      "  Downloading requests-2.28.1-py3-none-any.whl (62 kB)\n",
      "\u001b[2K     \u001b[90m━━━━━━━━━━━━━━━━━━━━━━━━━━━━━━━━━━━━━━━━\u001b[0m \u001b[32m62.8/62.8 kB\u001b[0m \u001b[31m4.6 MB/s\u001b[0m eta \u001b[36m0:00:00\u001b[0m\n",
      "\u001b[?25hCollecting scipy>=1.5\n",
      "  Downloading scipy-1.9.3-cp39-cp39-macosx_10_9_x86_64.whl (34.3 MB)\n",
      "\u001b[2K     \u001b[90m━━━━━━━━━━━━━━━━━━━━━━━━━━━━━━━━━━━━━━━━\u001b[0m \u001b[32m34.3/34.3 MB\u001b[0m \u001b[31m58.5 MB/s\u001b[0m eta \u001b[36m0:00:00\u001b[0m00:01\u001b[0m00:01\u001b[0m\n",
      "\u001b[?25hCollecting pandas>=1.0\n",
      "  Downloading pandas-1.5.1-cp39-cp39-macosx_10_9_x86_64.whl (12.1 MB)\n",
      "\u001b[2K     \u001b[90m━━━━━━━━━━━━━━━━━━━━━━━━━━━━━━━━━━━━━━━━\u001b[0m \u001b[32m12.1/12.1 MB\u001b[0m \u001b[31m83.9 MB/s\u001b[0m eta \u001b[36m0:00:00\u001b[0m00:01\u001b[0m00:01\u001b[0m\n",
      "\u001b[?25hRequirement already satisfied: setuptools in ./nilearn/lib/python3.9/site-packages (from nibabel>=3.0.0->nilearn) (65.5.0)\n",
      "Requirement already satisfied: packaging>=17.0 in ./nilearn/lib/python3.9/site-packages (from nibabel>=3.0.0->nilearn) (21.3)\n",
      "Collecting pytz>=2020.1\n",
      "  Downloading pytz-2022.5-py2.py3-none-any.whl (500 kB)\n",
      "\u001b[2K     \u001b[90m━━━━━━━━━━━━━━━━━━━━━━━━━━━━━━━━━━━━━━\u001b[0m \u001b[32m500.7/500.7 kB\u001b[0m \u001b[31m33.7 MB/s\u001b[0m eta \u001b[36m0:00:00\u001b[0m\n",
      "\u001b[?25hRequirement already satisfied: python-dateutil>=2.8.1 in ./nilearn/lib/python3.9/site-packages (from pandas>=1.0->nilearn) (2.8.2)\n",
      "Requirement already satisfied: idna<4,>=2.5 in ./nilearn/lib/python3.9/site-packages (from requests>=2->nilearn) (3.4)\n",
      "Collecting urllib3<1.27,>=1.21.1\n",
      "  Downloading urllib3-1.26.12-py2.py3-none-any.whl (140 kB)\n",
      "\u001b[2K     \u001b[90m━━━━━━━━━━━━━━━━━━━━━━━━━━━━━━━━━━━━━━\u001b[0m \u001b[32m140.4/140.4 kB\u001b[0m \u001b[31m11.1 MB/s\u001b[0m eta \u001b[36m0:00:00\u001b[0m\n",
      "\u001b[?25hCollecting certifi>=2017.4.17\n",
      "  Downloading certifi-2022.9.24-py3-none-any.whl (161 kB)\n",
      "\u001b[2K     \u001b[90m━━━━━━━━━━━━━━━━━━━━━━━━━━━━━━━━━━━━━━\u001b[0m \u001b[32m161.1/161.1 kB\u001b[0m \u001b[31m15.1 MB/s\u001b[0m eta \u001b[36m0:00:00\u001b[0m\n",
      "\u001b[?25hCollecting charset-normalizer<3,>=2\n",
      "  Downloading charset_normalizer-2.1.1-py3-none-any.whl (39 kB)\n",
      "Collecting threadpoolctl>=2.0.0\n",
      "  Downloading threadpoolctl-3.1.0-py3-none-any.whl (14 kB)\n",
      "Requirement already satisfied: pyparsing!=3.0.5,>=2.0.2 in ./nilearn/lib/python3.9/site-packages (from packaging>=17.0->nibabel>=3.0.0->nilearn) (3.0.9)\n",
      "Requirement already satisfied: six>=1.5 in ./nilearn/lib/python3.9/site-packages (from python-dateutil>=2.8.1->pandas>=1.0->nilearn) (1.16.0)\n",
      "Installing collected packages: pytz, urllib3, threadpoolctl, scipy, lxml, joblib, charset-normalizer, certifi, scikit-learn, requests, pandas, nilearn\n",
      "Successfully installed certifi-2022.9.24 charset-normalizer-2.1.1 joblib-1.2.0 lxml-4.9.1 nilearn-0.9.2 pandas-1.5.1 pytz-2022.5 requests-2.28.1 scikit-learn-1.1.2 scipy-1.9.3 threadpoolctl-3.1.0 urllib3-1.26.12\n"
     ]
    }
   ],
   "source": [
    "!pip install nibabel\n",
    "!pip install nilearn"
   ]
  },
  {
   "cell_type": "markdown",
   "metadata": {},
   "source": [
    "## Using the Notebooks"
   ]
  },
  {
   "cell_type": "markdown",
   "metadata": {},
   "source": [
    "If you were in the [`Introduction to Python 2022`](https://github.com/TomMaullin/PythonIntro2022) course, jupyter notebooks should already feel fairly familiar! However, if you missed the python course for whatever reason here's a brief recap!\n",
    "\n",
    "> Inside each section, you will find text blocks and code blocks. The text blocks will describe and introduce new topics and the code blocks will give interactive demonstrations of how various features work. Once you have clicked inside a code block, you can edit the code and run the block by simply pressing `shift` and `enter`. Try this in the below block!"
   ]
  },
  {
   "cell_type": "code",
   "execution_count": 2,
   "metadata": {},
   "outputs": [
    {
     "name": "stdout",
     "output_type": "stream",
     "text": [
      "Hello World\n"
     ]
    }
   ],
   "source": [
    "print('Hello World')"
   ]
  },
  {
   "cell_type": "markdown",
   "metadata": {},
   "source": [
    "## Contact and Feedback"
   ]
  },
  {
   "cell_type": "markdown",
   "metadata": {},
   "source": [
    "If anyone has any further questions on or requests regarding the course please ask one of the tutors present or feel free to email myself at `TomMaullin@gmail.com`.\n",
    "\n",
    "If you would like to leave feedback on the course please let us know your thoughts on this [google form here](https://forms.gle/B968y73LARcY3odL6)! (The form is anonymous so please speak freely!)"
   ]
  },
  {
   "cell_type": "markdown",
   "metadata": {},
   "source": [
    "## Acknowledgements"
   ]
  },
  {
   "cell_type": "markdown",
   "metadata": {},
   "source": [
    "This code provided in this notebook borrows very heavily from the worked examples in the official [nilearn documentation](https://nilearn.github.io/stable/auto_examples/00_tutorials). The text of these notebooks is course-specific, however, and any questions regarding the text should be directed to the tutors."
   ]
  }
 ],
 "metadata": {
  "kernelspec": {
   "display_name": "Python 3.9.12 ('nilearn': venv)",
   "language": "python",
   "name": "python3"
  },
  "language_info": {
   "codemirror_mode": {
    "name": "ipython",
    "version": 3
   },
   "file_extension": ".py",
   "mimetype": "text/x-python",
   "name": "python",
   "nbconvert_exporter": "python",
   "pygments_lexer": "ipython3",
   "version": "3.9.12"
  },
  "vscode": {
   "interpreter": {
    "hash": "1a6dbb25c55863738e2954d4c8d6543619be7d7aa818f7bc911a639f1b7151f6"
   }
  }
 },
 "nbformat": 4,
 "nbformat_minor": 2
}
