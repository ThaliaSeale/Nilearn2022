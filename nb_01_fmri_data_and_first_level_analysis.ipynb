{
 "cells": [
  {
   "cell_type": "markdown",
   "metadata": {},
   "source": [
    "# Notebook 1: FMRI Data and First-Level Analysis"
   ]
  },
  {
   "cell_type": "markdown",
   "metadata": {},
   "source": [
    "In this notebook, you'll be introduced to fMRI analysis in Python and we will perform a first-level analysis. As with most statistical fields, there are many ways to analyze data in fMRI. Here, once we have covered some basics, we will introduce you to one of the most commonplace approaches; the mass-univariate linear model and use it to run a first-level analysis. "
   ]
  },
  {
   "cell_type": "markdown",
   "metadata": {},
   "source": [
    "### Table of Contents\n",
    "\n",
    " - [Notebook 0: Introduction](./nb_00_introduction.ipynb)\n",
    " - [**Notebook 1: FMRI Data and First-Level Analysis**](./nb_01_fmri_data_and_first_level_analysis.ipynb)\n",
    "   - [Getting Started](#Getting-Started)\n",
    "     - [Loading the Data](#Loading-the-Data)\n",
    "     - [The NIfTI and img file formats](#The-NIfTI-and-img-file-formats)\n",
    "     - [Preprocessing](#Preprocessing)\n",
    "     - [The Linear Model for Imaging Data](#The-Linear-Model-for-Imaging-Data)\n",
    "     - [First-Level vs Second-Level Analysis](#First-Level-vs-Second-Level-Analysis)\n",
    "   - [First-level Analysis: An example](#First-level-Analysis:-An-example)\n",
    "     - [Building $X$ and Fitting the Model](#Building-$X$-and-Fitting-the-Model)\n",
    "     - [Creating a Contrast Vector](#Creating-a-Contrast-Vector)\n",
    "     - [Computing Effect Sizes](#Computing-Effect-Sizes)\n",
    "     - [Computing $Z$- and $t$-Statistic Maps](#Computing-$Z$--and-$t$-Statistic-Maps)\n",
    "     - [Thresholding your Results](#Thresholding-your-Results)\n",
    "     - [$F$-Tests](#$F$-Tests)\n",
    "   - [Exercises](#Exercises)\n",
    "     \n",
    "     \n",
    " - [Notebook 2: Second-Level Analysis](./nb_02_second_level_analysis.ipynb)"
   ]
  },
  {
   "cell_type": "markdown",
   "metadata": {},
   "source": [
    "## Getting Started"
   ]
  },
  {
   "cell_type": "markdown",
   "metadata": {},
   "source": [
    "To begin, let's load in the `nibabel` (we shall use this to manipulate `nifti` and `img` files) and `nilearn` packages which we shall use to perform statistical analysis. The `nilearn` package makes heavy use of `matplotlib`, and so we will need to make sure we have matplotlib configured correctly (this is what the `%matplotlib inline` command is doing)."
   ]
  },
  {
   "cell_type": "code",
   "execution_count": 2,
   "metadata": {},
   "outputs": [],
   "source": [
    "%matplotlib inline\n",
    "import nibabel as nib\n",
    "import nilearn\n",
    "import os"
   ]
  },
  {
   "cell_type": "markdown",
   "metadata": {},
   "source": [
    "### Loading the Data"
   ]
  },
  {
   "cell_type": "markdown",
   "metadata": {},
   "source": [
    "To begin with, lets load in some example data! The example we will be running through in this notebook is borrowed from the [single-session, single-subject fMRI example from the nilearn website](https://nilearn.github.io/stable/auto_examples/plot_single_subject_single_run.html) but was originally collected by the [FIL methods group which develops the SPM software](https://www.fil.ion.ucl.ac.uk/spm/data/auditory/). \n",
    "\n",
    "Rather handily, the nilearn package includes this data as a freely available example which can be retreived with the `fetch_spm_auditory` function in the `datasets` module."
   ]
  },
  {
   "cell_type": "code",
   "execution_count": 3,
   "metadata": {},
   "outputs": [
    {
     "name": "stderr",
     "output_type": "stream",
     "text": [
      "/apps/eb/software/Python/3.7.2-GCCcore-8.2.0/lib/python3.7/site-packages/nilearn/datasets/__init__.py:96: FutureWarning: Fetchers from the nilearn.datasets module will be updated in version 0.9 to return python strings instead of bytes and Pandas dataframes instead of Numpy arrays.\n",
      "  \"Numpy arrays.\", FutureWarning)\n"
     ]
    }
   ],
   "source": [
    "from nilearn.datasets import fetch_spm_auditory\n",
    "subject_data = fetch_spm_auditory()"
   ]
  },
  {
   "cell_type": "markdown",
   "metadata": {},
   "source": [
    "To create this dataset, 100 scans were acquired from a single subject during a single session using a repetition time (TR) of 7 seconds (we have one scan per 7 seconds). The first four scans have been removed during preprocessing.\n",
    "\n",
    "The subject underwent alternating periods of stimulation and rest, lasting 42s each (that is, for 6 scans). The stimulation consisted of bi-syllabic words being presented binaurally (through audio, to both ears) at a rate of 60 per minute.  \n",
    "\n",
    "Let's have a look at what is in the `subject_data` object."
   ]
  },
  {
   "cell_type": "code",
   "execution_count": 4,
   "metadata": {},
   "outputs": [
    {
     "data": {
      "text/plain": [
       "{'func': ['/home/inf852/nilearn_data/spm_auditory/sub001/fM00223/fM00223_004.img',\n",
       "  '/home/inf852/nilearn_data/spm_auditory/sub001/fM00223/fM00223_005.img',\n",
       "  '/home/inf852/nilearn_data/spm_auditory/sub001/fM00223/fM00223_006.img',\n",
       "  '/home/inf852/nilearn_data/spm_auditory/sub001/fM00223/fM00223_007.img',\n",
       "  '/home/inf852/nilearn_data/spm_auditory/sub001/fM00223/fM00223_008.img',\n",
       "  '/home/inf852/nilearn_data/spm_auditory/sub001/fM00223/fM00223_009.img',\n",
       "  '/home/inf852/nilearn_data/spm_auditory/sub001/fM00223/fM00223_010.img',\n",
       "  '/home/inf852/nilearn_data/spm_auditory/sub001/fM00223/fM00223_011.img',\n",
       "  '/home/inf852/nilearn_data/spm_auditory/sub001/fM00223/fM00223_012.img',\n",
       "  '/home/inf852/nilearn_data/spm_auditory/sub001/fM00223/fM00223_013.img',\n",
       "  '/home/inf852/nilearn_data/spm_auditory/sub001/fM00223/fM00223_014.img',\n",
       "  '/home/inf852/nilearn_data/spm_auditory/sub001/fM00223/fM00223_015.img',\n",
       "  '/home/inf852/nilearn_data/spm_auditory/sub001/fM00223/fM00223_016.img',\n",
       "  '/home/inf852/nilearn_data/spm_auditory/sub001/fM00223/fM00223_017.img',\n",
       "  '/home/inf852/nilearn_data/spm_auditory/sub001/fM00223/fM00223_018.img',\n",
       "  '/home/inf852/nilearn_data/spm_auditory/sub001/fM00223/fM00223_019.img',\n",
       "  '/home/inf852/nilearn_data/spm_auditory/sub001/fM00223/fM00223_020.img',\n",
       "  '/home/inf852/nilearn_data/spm_auditory/sub001/fM00223/fM00223_021.img',\n",
       "  '/home/inf852/nilearn_data/spm_auditory/sub001/fM00223/fM00223_022.img',\n",
       "  '/home/inf852/nilearn_data/spm_auditory/sub001/fM00223/fM00223_023.img',\n",
       "  '/home/inf852/nilearn_data/spm_auditory/sub001/fM00223/fM00223_024.img',\n",
       "  '/home/inf852/nilearn_data/spm_auditory/sub001/fM00223/fM00223_025.img',\n",
       "  '/home/inf852/nilearn_data/spm_auditory/sub001/fM00223/fM00223_026.img',\n",
       "  '/home/inf852/nilearn_data/spm_auditory/sub001/fM00223/fM00223_027.img',\n",
       "  '/home/inf852/nilearn_data/spm_auditory/sub001/fM00223/fM00223_028.img',\n",
       "  '/home/inf852/nilearn_data/spm_auditory/sub001/fM00223/fM00223_029.img',\n",
       "  '/home/inf852/nilearn_data/spm_auditory/sub001/fM00223/fM00223_030.img',\n",
       "  '/home/inf852/nilearn_data/spm_auditory/sub001/fM00223/fM00223_031.img',\n",
       "  '/home/inf852/nilearn_data/spm_auditory/sub001/fM00223/fM00223_032.img',\n",
       "  '/home/inf852/nilearn_data/spm_auditory/sub001/fM00223/fM00223_033.img',\n",
       "  '/home/inf852/nilearn_data/spm_auditory/sub001/fM00223/fM00223_034.img',\n",
       "  '/home/inf852/nilearn_data/spm_auditory/sub001/fM00223/fM00223_035.img',\n",
       "  '/home/inf852/nilearn_data/spm_auditory/sub001/fM00223/fM00223_036.img',\n",
       "  '/home/inf852/nilearn_data/spm_auditory/sub001/fM00223/fM00223_037.img',\n",
       "  '/home/inf852/nilearn_data/spm_auditory/sub001/fM00223/fM00223_038.img',\n",
       "  '/home/inf852/nilearn_data/spm_auditory/sub001/fM00223/fM00223_039.img',\n",
       "  '/home/inf852/nilearn_data/spm_auditory/sub001/fM00223/fM00223_040.img',\n",
       "  '/home/inf852/nilearn_data/spm_auditory/sub001/fM00223/fM00223_041.img',\n",
       "  '/home/inf852/nilearn_data/spm_auditory/sub001/fM00223/fM00223_042.img',\n",
       "  '/home/inf852/nilearn_data/spm_auditory/sub001/fM00223/fM00223_043.img',\n",
       "  '/home/inf852/nilearn_data/spm_auditory/sub001/fM00223/fM00223_044.img',\n",
       "  '/home/inf852/nilearn_data/spm_auditory/sub001/fM00223/fM00223_045.img',\n",
       "  '/home/inf852/nilearn_data/spm_auditory/sub001/fM00223/fM00223_046.img',\n",
       "  '/home/inf852/nilearn_data/spm_auditory/sub001/fM00223/fM00223_047.img',\n",
       "  '/home/inf852/nilearn_data/spm_auditory/sub001/fM00223/fM00223_048.img',\n",
       "  '/home/inf852/nilearn_data/spm_auditory/sub001/fM00223/fM00223_049.img',\n",
       "  '/home/inf852/nilearn_data/spm_auditory/sub001/fM00223/fM00223_050.img',\n",
       "  '/home/inf852/nilearn_data/spm_auditory/sub001/fM00223/fM00223_051.img',\n",
       "  '/home/inf852/nilearn_data/spm_auditory/sub001/fM00223/fM00223_052.img',\n",
       "  '/home/inf852/nilearn_data/spm_auditory/sub001/fM00223/fM00223_053.img',\n",
       "  '/home/inf852/nilearn_data/spm_auditory/sub001/fM00223/fM00223_054.img',\n",
       "  '/home/inf852/nilearn_data/spm_auditory/sub001/fM00223/fM00223_055.img',\n",
       "  '/home/inf852/nilearn_data/spm_auditory/sub001/fM00223/fM00223_056.img',\n",
       "  '/home/inf852/nilearn_data/spm_auditory/sub001/fM00223/fM00223_057.img',\n",
       "  '/home/inf852/nilearn_data/spm_auditory/sub001/fM00223/fM00223_058.img',\n",
       "  '/home/inf852/nilearn_data/spm_auditory/sub001/fM00223/fM00223_059.img',\n",
       "  '/home/inf852/nilearn_data/spm_auditory/sub001/fM00223/fM00223_060.img',\n",
       "  '/home/inf852/nilearn_data/spm_auditory/sub001/fM00223/fM00223_061.img',\n",
       "  '/home/inf852/nilearn_data/spm_auditory/sub001/fM00223/fM00223_062.img',\n",
       "  '/home/inf852/nilearn_data/spm_auditory/sub001/fM00223/fM00223_063.img',\n",
       "  '/home/inf852/nilearn_data/spm_auditory/sub001/fM00223/fM00223_064.img',\n",
       "  '/home/inf852/nilearn_data/spm_auditory/sub001/fM00223/fM00223_065.img',\n",
       "  '/home/inf852/nilearn_data/spm_auditory/sub001/fM00223/fM00223_066.img',\n",
       "  '/home/inf852/nilearn_data/spm_auditory/sub001/fM00223/fM00223_067.img',\n",
       "  '/home/inf852/nilearn_data/spm_auditory/sub001/fM00223/fM00223_068.img',\n",
       "  '/home/inf852/nilearn_data/spm_auditory/sub001/fM00223/fM00223_069.img',\n",
       "  '/home/inf852/nilearn_data/spm_auditory/sub001/fM00223/fM00223_070.img',\n",
       "  '/home/inf852/nilearn_data/spm_auditory/sub001/fM00223/fM00223_071.img',\n",
       "  '/home/inf852/nilearn_data/spm_auditory/sub001/fM00223/fM00223_072.img',\n",
       "  '/home/inf852/nilearn_data/spm_auditory/sub001/fM00223/fM00223_073.img',\n",
       "  '/home/inf852/nilearn_data/spm_auditory/sub001/fM00223/fM00223_074.img',\n",
       "  '/home/inf852/nilearn_data/spm_auditory/sub001/fM00223/fM00223_075.img',\n",
       "  '/home/inf852/nilearn_data/spm_auditory/sub001/fM00223/fM00223_076.img',\n",
       "  '/home/inf852/nilearn_data/spm_auditory/sub001/fM00223/fM00223_077.img',\n",
       "  '/home/inf852/nilearn_data/spm_auditory/sub001/fM00223/fM00223_078.img',\n",
       "  '/home/inf852/nilearn_data/spm_auditory/sub001/fM00223/fM00223_079.img',\n",
       "  '/home/inf852/nilearn_data/spm_auditory/sub001/fM00223/fM00223_080.img',\n",
       "  '/home/inf852/nilearn_data/spm_auditory/sub001/fM00223/fM00223_081.img',\n",
       "  '/home/inf852/nilearn_data/spm_auditory/sub001/fM00223/fM00223_082.img',\n",
       "  '/home/inf852/nilearn_data/spm_auditory/sub001/fM00223/fM00223_083.img',\n",
       "  '/home/inf852/nilearn_data/spm_auditory/sub001/fM00223/fM00223_084.img',\n",
       "  '/home/inf852/nilearn_data/spm_auditory/sub001/fM00223/fM00223_085.img',\n",
       "  '/home/inf852/nilearn_data/spm_auditory/sub001/fM00223/fM00223_086.img',\n",
       "  '/home/inf852/nilearn_data/spm_auditory/sub001/fM00223/fM00223_087.img',\n",
       "  '/home/inf852/nilearn_data/spm_auditory/sub001/fM00223/fM00223_088.img',\n",
       "  '/home/inf852/nilearn_data/spm_auditory/sub001/fM00223/fM00223_089.img',\n",
       "  '/home/inf852/nilearn_data/spm_auditory/sub001/fM00223/fM00223_090.img',\n",
       "  '/home/inf852/nilearn_data/spm_auditory/sub001/fM00223/fM00223_091.img',\n",
       "  '/home/inf852/nilearn_data/spm_auditory/sub001/fM00223/fM00223_092.img',\n",
       "  '/home/inf852/nilearn_data/spm_auditory/sub001/fM00223/fM00223_093.img',\n",
       "  '/home/inf852/nilearn_data/spm_auditory/sub001/fM00223/fM00223_094.img',\n",
       "  '/home/inf852/nilearn_data/spm_auditory/sub001/fM00223/fM00223_095.img',\n",
       "  '/home/inf852/nilearn_data/spm_auditory/sub001/fM00223/fM00223_096.img',\n",
       "  '/home/inf852/nilearn_data/spm_auditory/sub001/fM00223/fM00223_097.img',\n",
       "  '/home/inf852/nilearn_data/spm_auditory/sub001/fM00223/fM00223_098.img',\n",
       "  '/home/inf852/nilearn_data/spm_auditory/sub001/fM00223/fM00223_099.img'],\n",
       " 'anat': '/home/inf852/nilearn_data/spm_auditory/sub001/sM00223/sM00223_002.img',\n",
       " 'events': '/home/inf852/nilearn_data/spm_auditory/sub001/fM00223/fM00223_events.tsv'}"
      ]
     },
     "execution_count": 4,
     "metadata": {},
     "output_type": "execute_result"
    }
   ],
   "source": [
    "subject_data"
   ]
  },
  {
   "cell_type": "markdown",
   "metadata": {},
   "source": [
    "So as can be seen the `subject_data` object is a dict containing $3$ keys; `func`, `anat` and `events`. Let's go through each of these and see what they are;\n",
    "\n",
    " - `func`: This is the subject's functional data (i.e. the fMRI images representing [BOLD response](https://en.wikipedia.org/wiki/Blood-oxygen-level-dependent_imaging)). There are 96 of these images.\n",
    " - `anat`: This is the subject's anatomical data (i.e. an image of their physical anatomy, taken for reference). There is only one anatomical image.\n",
    " - `events`: This file contains information about the experimental design (i.e. details on when the stimulated and rest periods were)."
   ]
  },
  {
   "cell_type": "markdown",
   "metadata": {},
   "source": [
    " > **Note:** In general, there is no agreed-upon standard in the imaging literature for naming and storing the results of an imaging session (although there are proposed approaches; c.f. [BIDS and NIDM](https://www.incf.org/blog/bids-and-neuroimaging-data-model-nidm)). However, in most cases you will find that the functional data is named something along the lines of `functional` and the anatomical is named something along the lines of `anatomical` or `structural`."
   ]
  },
  {
   "cell_type": "markdown",
   "metadata": {},
   "source": [
    "Let's load in a functional image and the anatomical to have a look!"
   ]
  },
  {
   "cell_type": "code",
   "execution_count": 5,
   "metadata": {},
   "outputs": [
    {
     "data": {
      "text/plain": [
       "<nilearn.plotting.displays.OrthoSlicer at 0x7f54fade2eb8>"
      ]
     },
     "execution_count": 5,
     "metadata": {},
     "output_type": "execute_result"
    },
    {
     "data": {
      "image/png": "[encoded data removed]",
      "text/plain": [
       "<Figure size 475.2x187.2 with 4 Axes>"
      ]
     },
     "metadata": {},
     "output_type": "display_data"
    }
   ],
   "source": [
    "from nilearn.plotting import plot_stat_map, plot_anat, plot_img\n",
    "\n",
    "# Plot the 11th (remember zero-indexing!) functional image\n",
    "plot_img(subject_data.func[10])"
   ]
  },
  {
   "cell_type": "code",
   "execution_count": 6,
   "metadata": {},
   "outputs": [
    {
     "data": {
      "text/plain": [
       "<nilearn.plotting.displays.OrthoSlicer at 0x7f54f9442908>"
      ]
     },
     "execution_count": 6,
     "metadata": {},
     "output_type": "execute_result"
    },
    {
     "data": {
      "image/png": "[encoded data removed]",
      "text/plain": [
       "<Figure size 475.2x187.2 with 4 Axes>"
      ]
     },
     "metadata": {},
     "output_type": "display_data"
    }
   ],
   "source": [
    "# Plot the subjects anatomical data\n",
    "plot_anat(subject_data.anat)"
   ]
  },
  {
   "cell_type": "markdown",
   "metadata": {},
   "source": [
    "Investigate the `plot_img` [documentation](https://nilearn.github.io/modules/generated/nilearn.plotting.plot_img.html#nilearn.plotting.plot_img) to see if you can get the above images to line up!"
   ]
  },
  {
   "cell_type": "markdown",
   "metadata": {},
   "source": [
    "Now, let's have a brief look at the event's file:"
   ]
  },
  {
   "cell_type": "code",
   "execution_count": 7,
   "metadata": {},
   "outputs": [
    {
     "data": {
      "text/html": [
       "<div>\n",
       "<style scoped>\n",
       "    .dataframe tbody tr th:only-of-type {\n",
       "        vertical-align: middle;\n",
       "    }\n",
       "\n",
       "    .dataframe tbody tr th {\n",
       "        vertical-align: top;\n",
       "    }\n",
       "\n",
       "    .dataframe thead th {\n",
       "        text-align: right;\n",
       "    }\n",
       "</style>\n",
       "<table border=\"1\" class=\"dataframe\">\n",
       "  <thead>\n",
       "    <tr style=\"text-align: right;\">\n",
       "      <th></th>\n",
       "      <th>onset</th>\n",
       "      <th>duration</th>\n",
       "      <th>trial_type</th>\n",
       "    </tr>\n",
       "  </thead>\n",
       "  <tbody>\n",
       "    <tr>\n",
       "      <th>0</th>\n",
       "      <td>0.0</td>\n",
       "      <td>42.0</td>\n",
       "      <td>rest</td>\n",
       "    </tr>\n",
       "    <tr>\n",
       "      <th>1</th>\n",
       "      <td>42.0</td>\n",
       "      <td>42.0</td>\n",
       "      <td>active</td>\n",
       "    </tr>\n",
       "    <tr>\n",
       "      <th>2</th>\n",
       "      <td>84.0</td>\n",
       "      <td>42.0</td>\n",
       "      <td>rest</td>\n",
       "    </tr>\n",
       "    <tr>\n",
       "      <th>3</th>\n",
       "      <td>126.0</td>\n",
       "      <td>42.0</td>\n",
       "      <td>active</td>\n",
       "    </tr>\n",
       "    <tr>\n",
       "      <th>4</th>\n",
       "      <td>168.0</td>\n",
       "      <td>42.0</td>\n",
       "      <td>rest</td>\n",
       "    </tr>\n",
       "    <tr>\n",
       "      <th>5</th>\n",
       "      <td>210.0</td>\n",
       "      <td>42.0</td>\n",
       "      <td>active</td>\n",
       "    </tr>\n",
       "    <tr>\n",
       "      <th>6</th>\n",
       "      <td>252.0</td>\n",
       "      <td>42.0</td>\n",
       "      <td>rest</td>\n",
       "    </tr>\n",
       "    <tr>\n",
       "      <th>7</th>\n",
       "      <td>294.0</td>\n",
       "      <td>42.0</td>\n",
       "      <td>active</td>\n",
       "    </tr>\n",
       "    <tr>\n",
       "      <th>8</th>\n",
       "      <td>336.0</td>\n",
       "      <td>42.0</td>\n",
       "      <td>rest</td>\n",
       "    </tr>\n",
       "    <tr>\n",
       "      <th>9</th>\n",
       "      <td>378.0</td>\n",
       "      <td>42.0</td>\n",
       "      <td>active</td>\n",
       "    </tr>\n",
       "    <tr>\n",
       "      <th>10</th>\n",
       "      <td>420.0</td>\n",
       "      <td>42.0</td>\n",
       "      <td>rest</td>\n",
       "    </tr>\n",
       "    <tr>\n",
       "      <th>11</th>\n",
       "      <td>462.0</td>\n",
       "      <td>42.0</td>\n",
       "      <td>active</td>\n",
       "    </tr>\n",
       "    <tr>\n",
       "      <th>12</th>\n",
       "      <td>504.0</td>\n",
       "      <td>42.0</td>\n",
       "      <td>rest</td>\n",
       "    </tr>\n",
       "    <tr>\n",
       "      <th>13</th>\n",
       "      <td>546.0</td>\n",
       "      <td>42.0</td>\n",
       "      <td>active</td>\n",
       "    </tr>\n",
       "    <tr>\n",
       "      <th>14</th>\n",
       "      <td>588.0</td>\n",
       "      <td>42.0</td>\n",
       "      <td>rest</td>\n",
       "    </tr>\n",
       "    <tr>\n",
       "      <th>15</th>\n",
       "      <td>630.0</td>\n",
       "      <td>42.0</td>\n",
       "      <td>active</td>\n",
       "    </tr>\n",
       "  </tbody>\n",
       "</table>\n",
       "</div>"
      ],
      "text/plain": [
       "    onset  duration trial_type\n",
       "0     0.0      42.0       rest\n",
       "1    42.0      42.0     active\n",
       "2    84.0      42.0       rest\n",
       "3   126.0      42.0     active\n",
       "4   168.0      42.0       rest\n",
       "5   210.0      42.0     active\n",
       "6   252.0      42.0       rest\n",
       "7   294.0      42.0     active\n",
       "8   336.0      42.0       rest\n",
       "9   378.0      42.0     active\n",
       "10  420.0      42.0       rest\n",
       "11  462.0      42.0     active\n",
       "12  504.0      42.0       rest\n",
       "13  546.0      42.0     active\n",
       "14  588.0      42.0       rest\n",
       "15  630.0      42.0     active"
      ]
     },
     "execution_count": 7,
     "metadata": {},
     "output_type": "execute_result"
    }
   ],
   "source": [
    "import pandas as pd\n",
    "events = pd.read_csv(subject_data['events'],sep='\\t')\n",
    "events"
   ]
  },
  {
   "cell_type": "markdown",
   "metadata": {},
   "source": [
    "As we can see, it tells us the `onset` of each \"block\" in the design (e.g. the time the block began), the `duration` of the block, and the `trial_type` of the block (i.e. what was happening during the block? Was the subject active or at rest?)."
   ]
  },
  {
   "cell_type": "markdown",
   "metadata": {},
   "source": [
    "### The NIfTI and img file formats"
   ]
  },
  {
   "cell_type": "markdown",
   "metadata": {},
   "source": [
    "Before we move on to some statistics analysis, it's worth just providing a little bit of background on the `img` file format and what is stored inside it. Let's try loading an `img` file in. \n",
    "\n",
    "We can do this using the nibabel `load` function!"
   ]
  },
  {
   "cell_type": "code",
   "execution_count": 8,
   "metadata": {},
   "outputs": [
    {
     "name": "stdout",
     "output_type": "stream",
     "text": [
      "<class 'nibabel.nifti1.Nifti1Pair'>\n",
      "data shape (64, 64, 64)\n",
      "affine: \n",
      "[[ -3.   0.   0.  93.]\n",
      " [  0.   3.   0. -93.]\n",
      " [  0.   0.   3. -66.]\n",
      " [  0.   0.   0.   1.]]\n",
      "metadata:\n",
      "<class 'nibabel.nifti1.Nifti1PairHeader'> object, endian='<'\n",
      "sizeof_hdr      : 348\n",
      "data_type       : b''\n",
      "db_name         : b''\n",
      "extents         : 0\n",
      "session_error   : 0\n",
      "regular         : b''\n",
      "dim_info        : 0\n",
      "dim             : [ 3 64 64 64  1  1  1  1]\n",
      "intent_p1       : 0.0\n",
      "intent_p2       : 0.0\n",
      "intent_p3       : 0.0\n",
      "intent_code     : none\n",
      "datatype        : float64\n",
      "bitpix          : 64\n",
      "slice_start     : 0\n",
      "pixdim          : [-1.  3.  3.  3.  1.  1.  1.  1.]\n",
      "vox_offset      : 0.0\n",
      "scl_slope       : nan\n",
      "scl_inter       : nan\n",
      "slice_end       : 0\n",
      "slice_code      : unknown\n",
      "xyzt_units      : 0\n",
      "cal_max         : 0.0\n",
      "cal_min         : 0.0\n",
      "slice_duration  : 0.0\n",
      "toffset         : 0.0\n",
      "glmax           : 0\n",
      "glmin           : 0\n",
      "descrip         : b''\n",
      "aux_file        : b''\n",
      "qform_code      : unknown\n",
      "sform_code      : aligned\n",
      "quatern_b       : 0.0\n",
      "quatern_c       : 1.0\n",
      "quatern_d       : 0.0\n",
      "qoffset_x       : 93.0\n",
      "qoffset_y       : -93.0\n",
      "qoffset_z       : -66.0\n",
      "srow_x          : [-3.  0.  0. 93.]\n",
      "srow_y          : [  0.   3.   0. -93.]\n",
      "srow_z          : [  0.   0.   3. -66.]\n",
      "intent_name     : b''\n",
      "magic           : b'ni1'\n"
     ]
    }
   ],
   "source": [
    "img = nib.load(os.path.join('..','nilearn_data','spm_auditory','sub001','fM00223','fM00223_099.img'))\n",
    "\n",
    "print(img)"
   ]
  },
  {
   "cell_type": "markdown",
   "metadata": {},
   "source": [
    "When we print this `img` object we get a load of metadata! Let's highlight a few notable things here;\n",
    "\n",
    " - We have the shape of the data; `(64,64,64)`. \n",
    " \n",
    "   This means that in each image we have $64\\times 64\\times 64=262144$ voxels (3D pixels). Typically, the brain takes up approximately a third of the image so this means we probably have about $262144/3\\approx 87381$ datapoints *per image!* (and these are small images!).\n",
    "   \n",
    "   \n",
    " - We have the `affine` of the data. This tells us the position of the image array data in a reference space. In other words, during data collection and preprocessing, this data may have undergone a number of transformations to make all of the images \"look nice\" and \"line up\" with one another. This `affine` tells us how we can transform our version of the image back to the original frame of reference.\n",
    " \n",
    " \n",
    " - We have the `nibabel.nifti1.Nifti1PairHeader` object. This `header` object stores all sorts of useful information about the data. We won't go into too much detail on the header here but there's a very good blog post [here](https://brainder.org/2012/09/23/the-nifti-file-format/) if you wanted to read a bit more.\n",
    " \n",
    "You might be wondering at this point \"where's the image data?\". Well, `img` is an `nibabel.nifti1` object and `nibabel` allows us to access information inside `nibabel.nifti1` objects using the `dataobj` property like so;"
   ]
  },
  {
   "cell_type": "code",
   "execution_count": 9,
   "metadata": {},
   "outputs": [
    {
     "name": "stdout",
     "output_type": "stream",
     "text": [
      "(64, 64, 64)\n",
      "[[[ 349.  414.  230.  150.  248.]\n",
      "  [ 382.  508.  359.  248.  226.]\n",
      "  [ 211.  392.  470.  374.  253.]\n",
      "  [ 312.  360.  493.  455.  326.]]\n",
      "\n",
      " [[ 537.  301.  388.  989. 1198.]\n",
      "  [ 466.  206.  556.  618.  758.]\n",
      "  [ 414.  374.  229.  459.  279.]\n",
      "  [ 394.  406.  471.  508.  264.]]]\n",
      "<class 'nibabel.arrayproxy.ArrayProxy'>\n"
     ]
    }
   ],
   "source": [
    "# Read the data\n",
    "img_data = img.dataobj\n",
    "\n",
    "# Print the data shape\n",
    "print(img_data.shape)\n",
    "\n",
    "# Try accessing some elements of the data\n",
    "print(img_data[10:12,50:54,30:35])\n",
    "\n",
    "# Print the type of the data \n",
    "print(type(img_data))"
   ]
  },
  {
   "cell_type": "markdown",
   "metadata": {},
   "source": [
    "We can manipulate and use the `img_data` object much like we would a numpy array! In fact, you may be thinking \"why don't we just use a numpy array instead of whatever a `nibabel.arrayproxy.ArrayProxy` is?\".\n",
    "\n",
    "The short answer to this question is; memory. Neuroimaging data is large. Very large. If you were to try and load all the data in this example in as numpy arrays you would likely run into a memory error and crash the notebook. And this example is small.\n",
    "\n",
    "Nibabel is a very powerful tool as it handles a lot of these memory issues for you behind the scenes. Instead of creating a numpy array, nibabel has created something called a `memmap` here, which basically only loads in data when you ask for it! For instance, in the above example the elements `[10:12,50:54,30:35]` weren't read into working memory until we explicitly asked for them.\n",
    "\n",
    " > **Tip:** If you're working with neuroimaging data and everything is running slowly, check if you have your data saved as a `memmap` or as a `np.array`. It could save you years of your life!"
   ]
  },
  {
   "cell_type": "markdown",
   "metadata": {},
   "source": [
    "There's one final piece of data storage related information worth noting. If we look inside the `nilearn_data` folder, we can see that every `img` file has a corresponding `hdr` file."
   ]
  },
  {
   "cell_type": "code",
   "execution_count": 10,
   "metadata": {},
   "outputs": [
    {
     "name": "stdout",
     "output_type": "stream",
     "text": [
      "['fM00223_042.img', 'fM00223_034.hdr', 'fM00223_009.hdr', 'fM00223_020.img', 'fM00223_021.img', 'fM00223_031.hdr', 'fM00223_062.hdr', 'fM00223_065.img', 'fM00223_015.hdr', 'fM00223_057.hdr', 'fM00223_044.hdr', 'fM00223_096.hdr', 'fM00223_091.hdr', 'fM00223_083.hdr', 'fM00223_087.img', 'fM00223_035.img', 'fM00223_024.hdr', 'fM00223_048.img', 'fM00223_027.hdr', 'fM00223_057.img', 'fM00223_028.img', 'fM00223_091.img', 'fM00223_047.hdr', 'fM00223_029.img', 'fM00223_095.img', 'fM00223_042.hdr', 'fM00223_085.img', 'fM00223_038.hdr', 'fM00223_050.img', 'fM00223_053.img', 'fM00223_030.img', 'fM00223_036.hdr', 'fM00223_028.hdr', 'fM00223_095.hdr', 'fM00223_089.hdr', 'fM00223_031.img', 'fM00223_070.img', 'fM00223_087.hdr', 'fM00223_069.img', 'fM00223_063.hdr', 'fM00223_012.hdr', 'fM00223_074.img', 'fM00223_014.img', 'fM00223_088.hdr', 'fM00223_023.hdr', 'fM00223_097.img', 'fM00223_086.hdr', 'fM00223_049.img', 'fM00223_078.img', 'fM00223_081.hdr', 'fM00223_079.img', 'fM00223_051.hdr', 'fM00223_013.img', 'fM00223_069.hdr', 'fM00223_018.img', 'fM00223_060.hdr', 'fM00223_023.img', 'fM00223_055.img', 'fM00223_093.img', 'fM00223_071.hdr', 'fM00223_020.hdr', 'fM00223_006.hdr', 'fM00223_099.img', 'fM00223_060.img', 'fM00223_032.img', 'fM00223_018.hdr', 'fM00223_033.img', 'fM00223_010.img', 'fM00223_024.img', 'fM00223_075.hdr', 'fM00223_005.hdr', 'fM00223_013.hdr', 'fM00223_027.img', 'fM00223_025.hdr', 'fM00223_064.hdr', 'fM00223_045.img', 'fM00223_086.img', 'fM00223_073.img', 'fM00223_062.img', 'fM00223_040.hdr', 'fM00223_036.img', 'fM00223_026.hdr', 'fM00223_032.hdr', 'fM00223_045.hdr', 'fM00223_077.hdr', 'fM00223_039.hdr', 'fM00223_076.img', 'fM00223_068.hdr', 'fM00223_038.img', 'fM00223_040.img', 'fM00223_078.hdr', 'fM00223_088.img', 'fM00223_097.hdr', 'fM00223_068.img', 'fM00223_012.img', 'fM00223_037.img', 'fM00223_050.hdr', 'fM00223_058.hdr', 'fM00223_048.hdr', 'fM00223_093.hdr', 'fM00223_044.img', 'fM00223_083.img', 'fM00223_004.img', 'fM00223_034.img', 'fM00223_059.img', 'fM00223_033.hdr', 'fM00223_067.img', 'fM00223_019.hdr', 'fM00223_075.img', 'fM00223_098.img', 'fM00223_054.img', 'fM00223_098.hdr', 'fM00223_014.hdr', 'fM00223_066.img', 'fM00223_046.hdr', 'fM00223_092.img', 'fM00223_051.img', 'fM00223_079.hdr', 'fM00223_035.hdr', 'fM00223_094.hdr', 'fM00223_041.img', 'fM00223_021.hdr', 'fM00223_074.hdr', 'fM00223_085.hdr', 'fM00223_096.img', 'fM00223_019.img', 'fM00223_007.hdr', 'fM00223_030.hdr', 'fM00223_067.hdr', 'fM00223_016.img', 'fM00223_065.hdr', 'fM00223_016.hdr', 'fM00223_058.img', 'fM00223_004.hdr', 'fM00223_056.img', 'fM00223_056.hdr', 'fM00223_017.hdr', 'fM00223_081.img', 'fM00223_066.hdr', 'fM00223_089.img', 'fM00223_063.img', 'fM00223_073.hdr', 'fM00223_092.hdr', 'fM00223_006.img', 'fM00223_052.img', 'fM00223_054.hdr', 'fM00223_008.hdr', 'fM00223_025.img', 'fM00223_029.hdr', 'fM00223_041.hdr', 'fM00223_039.img', 'fM00223_047.img', 'fM00223_046.img', 'fM00223_052.hdr', 'fM00223_011.img', 'fM00223_053.hdr', 'fM00223_055.hdr', 'fM00223_082.hdr', 'fM00223_059.hdr', 'fM00223_064.img', 'fM00223_070.hdr', 'fM00223_026.img', 'fM00223_080.hdr', 'fM00223_022.img', 'fM00223_010.hdr', 'fM00223_049.hdr', 'fM00223_072.hdr', 'fM00223_076.hdr', 'fM00223_022.hdr', 'fM00223_015.img', 'fM00223_094.img', 'fM00223_009.img', 'fM00223_082.img', 'fM00223_008.img', 'fM00223_061.img', 'fM00223_090.hdr', 'fM00223_084.hdr', 'fM00223_005.img', 'fM00223_043.hdr', 'fM00223_077.img', 'fM00223_080.img', 'fM00223_084.img', 'fM00223_011.hdr', 'fM00223_061.hdr', 'fM00223_007.img', 'fM00223_072.img', 'fM00223_017.img', 'fM00223_037.hdr', 'fM00223_090.img', 'fM00223_071.img', 'fM00223_043.img', 'fM00223_events.tsv', 'fM00223_099.hdr']\n"
     ]
    }
   ],
   "source": [
    "print(os.listdir(os.path.join('..','nilearn_data','spm_auditory','sub001','fM00223')))"
   ]
  },
  {
   "cell_type": "markdown",
   "metadata": {},
   "source": [
    "If we move the `hdr` file, weirdly we can't use the `img` file anymore."
   ]
  },
  {
   "cell_type": "code",
   "execution_count": 11,
   "metadata": {},
   "outputs": [
    {
     "ename": "ImageFileError",
     "evalue": "Cannot work out file type of \"../nilearn_data/spm_auditory/sub001/fM00223/fM00223_099.img\"",
     "output_type": "error",
     "traceback": [
      "\u001b[0;31m---------------------------------------------------------------------------\u001b[0m",
      "\u001b[0;31mImageFileError\u001b[0m                            Traceback (most recent call last)",
      "\u001b[0;32m<ipython-input-11-d02633990e2d>\u001b[0m in \u001b[0;36m<module>\u001b[0;34m\u001b[0m\n\u001b[1;32m      7\u001b[0m \u001b[0;34m\u001b[0m\u001b[0m\n\u001b[1;32m      8\u001b[0m \u001b[0;31m# Try to load in the img file now\u001b[0m\u001b[0;34m\u001b[0m\u001b[0;34m\u001b[0m\u001b[0;34m\u001b[0m\u001b[0m\n\u001b[0;32m----> 9\u001b[0;31m \u001b[0mimg\u001b[0m \u001b[0;34m=\u001b[0m \u001b[0mnib\u001b[0m\u001b[0;34m.\u001b[0m\u001b[0mload\u001b[0m\u001b[0;34m(\u001b[0m\u001b[0mos\u001b[0m\u001b[0;34m.\u001b[0m\u001b[0mpath\u001b[0m\u001b[0;34m.\u001b[0m\u001b[0mjoin\u001b[0m\u001b[0;34m(\u001b[0m\u001b[0;34m'..'\u001b[0m\u001b[0;34m,\u001b[0m\u001b[0;34m'nilearn_data'\u001b[0m\u001b[0;34m,\u001b[0m\u001b[0;34m'spm_auditory'\u001b[0m\u001b[0;34m,\u001b[0m\u001b[0;34m'sub001'\u001b[0m\u001b[0;34m,\u001b[0m\u001b[0;34m'fM00223'\u001b[0m\u001b[0;34m,\u001b[0m\u001b[0;34m'fM00223_099.img'\u001b[0m\u001b[0;34m)\u001b[0m\u001b[0;34m)\u001b[0m\u001b[0;34m\u001b[0m\u001b[0;34m\u001b[0m\u001b[0m\n\u001b[0m",
      "\u001b[0;32m/apps/eb/software/Python/3.7.2-GCCcore-8.2.0/lib/python3.7/site-packages/nibabel/loadsave.py\u001b[0m in \u001b[0;36mload\u001b[0;34m(filename, **kwargs)\u001b[0m\n\u001b[1;32m     53\u001b[0m             \u001b[0;32mreturn\u001b[0m \u001b[0mimg\u001b[0m\u001b[0;34m\u001b[0m\u001b[0;34m\u001b[0m\u001b[0m\n\u001b[1;32m     54\u001b[0m \u001b[0;34m\u001b[0m\u001b[0m\n\u001b[0;32m---> 55\u001b[0;31m     \u001b[0;32mraise\u001b[0m \u001b[0mImageFileError\u001b[0m\u001b[0;34m(\u001b[0m\u001b[0;34mf'Cannot work out file type of \"{filename}\"'\u001b[0m\u001b[0;34m)\u001b[0m\u001b[0;34m\u001b[0m\u001b[0;34m\u001b[0m\u001b[0m\n\u001b[0m\u001b[1;32m     56\u001b[0m \u001b[0;34m\u001b[0m\u001b[0m\n\u001b[1;32m     57\u001b[0m \u001b[0;34m\u001b[0m\u001b[0m\n",
      "\u001b[0;31mImageFileError\u001b[0m: Cannot work out file type of \"../nilearn_data/spm_auditory/sub001/fM00223/fM00223_099.img\""
     ]
    }
   ],
   "source": [
    "# Get the filename of a hdr file and make a temporary filename \n",
    "hdr_file = os.path.join('..','nilearn_data','spm_auditory','sub001','fM00223','fM00223_099.hdr')\n",
    "tmp_file = os.path.join('..','nilearn_data','spm_auditory','sub001','fM00223','tmp.hdr')\n",
    "\n",
    "# Move the hdr file\n",
    "os.rename(hdr_file, tmp_file)\n",
    "\n",
    "# Try to load in the img file now\n",
    "img = nib.load(os.path.join('..','nilearn_data','spm_auditory','sub001','fM00223','fM00223_099.img'))"
   ]
  },
  {
   "cell_type": "markdown",
   "metadata": {},
   "source": [
    "However, if we move the `hdr` file back in place, we can load in the `img` file."
   ]
  },
  {
   "cell_type": "code",
   "execution_count": 12,
   "metadata": {},
   "outputs": [],
   "source": [
    "os.rename(tmp_file, hdr_file)\n",
    "img3 = nib.load(os.path.join('..','nilearn_data','spm_auditory','sub001','fM00223','fM00223_099.img'))"
   ]
  },
  {
   "cell_type": "markdown",
   "metadata": {},
   "source": [
    "This is a bit annoying... this is happening because `img` and `hdr` files come in pairs. The `img` file contains the data and the `hdr` file contains the header meta-data we were looking at earlier.\n",
    "\n",
    "Because this is a bit of a pain, people often use a \"Neuroimaging Informatics Technology Initiative\" (NIfTI) file format instead. Simply put, a NIfTI file is just combination of the information inside the `img` and `hdr` files, saved under a `.nii` extension.\n",
    "\n",
    "`NIfTI` files are popular and often the default file extension used in neuroimaging, so you may find that as you work through this tutorial a lot of the results we are saving are saved as `.nii` rather than `.img`. Just remember that the `.nii` file is basically just the same thing as \"`.img`+`.hdr`\". Here's a quick example;"
   ]
  },
  {
   "cell_type": "code",
   "execution_count": 13,
   "metadata": {},
   "outputs": [
    {
     "name": "stdout",
     "output_type": "stream",
     "text": [
      "['README.txt', 'README_analysis.txt', 'sM00223', 'fM00223', 'mean_image.nii']\n"
     ]
    }
   ],
   "source": [
    "from nilearn.image import mean_img\n",
    "\n",
    "# Lets make a mean image of the subjects functional data\n",
    "mean_img = mean_img(subject_data.func)\n",
    "\n",
    "# Lets save the result \n",
    "nib.save(mean_img, os.path.join('..','nilearn_data','spm_auditory','sub001','mean_image'))\n",
    "\n",
    "# Let's see what it saved it as:\n",
    "print(os.listdir(os.path.join('..','nilearn_data','spm_auditory','sub001')))"
   ]
  },
  {
   "cell_type": "markdown",
   "metadata": {},
   "source": [
    "We now have a `mean_image.nii` file. It is worth stressing that all of the tools we use in this notebook will work for both `.img` and `.nii` files."
   ]
  },
  {
   "cell_type": "markdown",
   "metadata": {},
   "source": [
    "### Preprocessing"
   ]
  },
  {
   "cell_type": "markdown",
   "metadata": {},
   "source": [
    "If you've never worked with imaging data before you might at this point be thinking something along the lines of \"hey, don't people move in the scanner though?\" or \"surely, we're going to have to do something else to make these images line up?\". Normally, you would address such questions when you preprocess your data. But for our purposes today, this has already been done for you. \n",
    "\n",
    "That said, preprocessing is an important part of any imaging study and it is important to know what has happened to the data before analysis, so that you can understand what the analysis is taking care of. Here we'll just briefly list a few common preprocessing steps which may have been applied to the data before analysis:\n",
    "\n",
    "- **Distortion Correction:** Functional MRI images are generated using a magnetic field induced by a superconducting coil. In theory, the magnetic field should be perfectly homogeneous and uniform across space. However, in practice, inhomogeneities in the magnetic field are common, often caused by differences in the magnetic susceptibility properties of the tissue types being scanned. Fortunately, magnetic field inhomogeneties behave in a predictable manner and are often fixed in a preprocessing stage by \"warping\" an image.\n",
    "    \n",
    "    \n",
    "- **Motion Correction:** Image acquisition can be a lengthy process and it is difficult for participants to remain completely still for such prolonged periods of time. As a result, it is inevitable that there will be some movement of the head during any image acquisition. In this stage of the pre-processing pipeline, images are transformed to line up with one another (often the middle image of the time series is used as a reference).\n",
    "\n",
    "\n",
    "- **Co-registration:** In order to compare them to something meaningful, we usually want our images to \"line-up\" or be \"aligned\" to the subject's anatomy. For this reason, the images are often \"co-registered\" to the subject's anatomical image (e.g. `sM00223_002.img`) during pre-processing. This means that all of the images have now been transformed to have the same shape and size as the subject's anatomical image.\n",
    "\n",
    "\n",
    "- **Registration:** Often, we are also interested in comparing the results of analysis \"between-subjects\". For this reason, images are often aligned to some \"standard template\" to allow between subject comparison. We will revisit this idea in the next notebook.\n",
    "\n",
    "\n",
    "- **Brain Extraction:** Non-brain structure, such as the skull and surrounding tissues, are typically removed from all of the images before analysis. This process is performed using the anatomical image as a reference and is also sometimes known as skull-stripping.\n",
    "\n",
    "\n",
    "- **Spatial Smoothing:** Spatial data is noisy. One thing we can do to combat this is convolve the data with a Gaussian kernel along each of the three dimensions (i.e. make it *smoother*). This is often done during pre-processing but it is also common to perform smoothing during the first-level analysis. We will investigate this further in the first-level example in this notebook."
   ]
  },
  {
   "cell_type": "markdown",
   "metadata": {},
   "source": [
    "The above list is non-exhaustive but it does highlight something important about fMRI analysis. Before beginning, statistical analysis, you must always **LOOK AT YOUR DATA!**\n",
    "\n",
    "Any one of these preprocessing steps could go wrong, and, more often than not, they do!\n",
    "\n",
    "In the box below have a look through the functional images in `subject_data` using the `plot_img` function. "
   ]
  },
  {
   "cell_type": "code",
   "execution_count": 14,
   "metadata": {},
   "outputs": [],
   "source": [
    "# Write your code here..."
   ]
  },
  {
   "cell_type": "markdown",
   "metadata": {},
   "source": [
    "Think about what it might look like if each of the above preprocessing steps had failed. When you are happy you have looked carefully at the images, move on to the next section."
   ]
  },
  {
   "cell_type": "markdown",
   "metadata": {},
   "source": [
    "### The Linear Model for Imaging Data"
   ]
  },
  {
   "cell_type": "markdown",
   "metadata": {},
   "source": [
    "Okay, we're almost ready to start running code! We will just quickly go over a few statistical concepts and then we will move onto running an analysis! One of the most common approaches employed for analyzing fMRI data is to use the Linear Model (LM). Below, we'll give a brief recap of what the LM looks like;"
   ]
  },
  {
   "cell_type": "markdown",
   "metadata": {},
   "source": [
    "In the traditional (univariate) settings you are likely familiar with, a LM containing $n$ observations typically takes the following form:\n",
    "\n",
    "$$Y=X\\beta + \\epsilon$$ \n",
    "\n",
    "where $\\epsilon \\sim N(0,\\Sigma)$. In this model;\n",
    "\n",
    " - $Y$ is an $(n \\times 1)$-shaped response vector; i.e. some variable which we have several measurements for and are interested in modelling.\n",
    " - $X$ is an $(n \\times p)$-shaped design matrix. $X$ typically contains information about the study you have run (e.g. variables describing the experiment setup, the participants involved,... etc).\n",
    " - $\\beta$ is a $(p \\times 1)$-shaped parameter vector. The parameter vector tells us how the columns of $X$ (known as the regressors or independent variables) interact with the response vector $Y$.\n",
    " - $\\epsilon$ is an $(n \\times 1)$-shaped error term representing noise.\n",
    " - $\\Sigma$ is the $(n \\times n)$ covariance matrix of $\\epsilon$. Often, we assume that $\\Sigma$ takes some special form to save us from having to deal with $n^2$ covariance terms. For example, in the analysis we will run shortly, we take $\\Sigma$ to have an AR(1) structure."
   ]
  },
  {
   "cell_type": "markdown",
   "metadata": {},
   "source": [
    "IMAGE"
   ]
  },
  {
   "cell_type": "markdown",
   "metadata": {},
   "source": [
    "Moving to imaging, it can become a bit confusing what exactly $X$ and $Y$ are. In imaging, we do not have a single response vector $Y$, but rather we have a response vector for *each voxel* (i.e. each location in the brain). This means that, essentially, we don't just have one model, but rather thousands of models, each one corresponding to a different location in the brain."
   ]
  },
  {
   "cell_type": "markdown",
   "metadata": {},
   "source": [
    "For the $v^{th}$ voxel in the image, we have a model that looks something like this;"
   ]
  },
  {
   "cell_type": "markdown",
   "metadata": {},
   "source": [
    "$$Y_v = X \\beta_v + \\epsilon_v$$\n",
    "where $\\epsilon_v \\sim N(0,\\Sigma_v)$.  In this model;\n",
    "\n",
    " - $Y_v$ is an $(n \\times 1)$-shaped response vector representing the response *at voxel $v$*.\n",
    " - $X$ still the $(n \\times p)$-shaped design matrix.\n",
    " - $\\beta_v$ is a $(p \\times 1)$-shaped parameter vector modelling the parameters *for voxel $v$*.\n",
    " - $\\epsilon_v$ is an $(n \\times 1)$-shaped error term representing noise *at voxel $v$*.\n",
    " - $\\Sigma_v$ is the $(n \\times n)$ covariance matrix of $\\epsilon_v$.\n"
   ]
  },
  {
   "cell_type": "markdown",
   "metadata": {},
   "source": [
    "The above model is often referred to as a *mass-univariate* Linear Model, as each voxel has it's own seperate univariate model (and there are a lot of voxels!)!\n"
   ]
  },
  {
   "cell_type": "markdown",
   "metadata": {},
   "source": [
    "> **Note:** You may be wondering why we have so many univariate models, instead of just combining everything together into a single multivariate model. Simply put, a multivariate model would be massively overparameterized. In this example, we have $n=96$ observations. If we tried to model this using a multivariate model we would have $pv$ parameters to estimate, where $p$ is the number of columns of $X$ (which is $16$ in the following example) and $v$ is the number of voxels in the brain (which we saw earlier was approximately $87381$). \n",
    ">\n",
    "> You could certainly try using your favourite approach to estimating overparameterized models to try to get something meaningful but given how small $n$ ($=96$) is in comparison to $pv$ ($=1398096$), it certainly isn't looking likely you will get anything of use."
   ]
  },
  {
   "cell_type": "markdown",
   "metadata": {},
   "source": [
    "It's worth emphasizing that $X$ does not have a subscript $v$. This is because $X$ contains information about the experimental design (e.g. from the `events.tsv` file) and this information does not depend on which voxel we are looking at!"
   ]
  },
  {
   "cell_type": "markdown",
   "metadata": {},
   "source": [
    "> **Note:** Some analyses may include voxel-specific information in $X$, but we won't get into that here!"
   ]
  },
  {
   "cell_type": "markdown",
   "metadata": {},
   "source": [
    "In a mass-univariate analysis, we are running a lot of statistical tests (one for each voxel in the brain), and therefore a multiple comparisons correction must be employed once we have run our analysis. We'll talk about this a little bit more after we have generated some statistics."
   ]
  },
  {
   "cell_type": "markdown",
   "metadata": {},
   "source": [
    "### First-Level vs Second-Level Analysis"
   ]
  },
  {
   "cell_type": "markdown",
   "metadata": {},
   "source": [
    "The last thing we need to explain before moving onto running the example is the difference between a \"first\" and \"second\" level analysis. "
   ]
  },
  {
   "cell_type": "markdown",
   "metadata": {},
   "source": [
    "#### First-Level Analysis\n",
    "\n",
    "In fMRI, a first-level analysis, also known as a \"subject-level\" analysis, usually involves combining data drawn from a single subject. The subject has typically performed some task, and we have one scan per timepoint during the task.\n",
    "\n",
    "The aim of a first-level analysis is to combine several scans taken from the same subject, each of which corresponds to a timepoint, to perform some inference which assess *that subjects* response to the stimuli. \n",
    "\n",
    "#### Second-Level Analysis\n",
    "\n",
    "A second-level analysis, also known as a \"group-level\" analysis, usually involves combining results from several first-level analyses. All subjects have performed the same task, the same first-level analysis has been run for each subject, and, from this, we now have one scan per subject.\n",
    "\n",
    "The aim of a second-level analysis is to combine the results of several first-level analyses, each of which corresponds to a subject, to perform some inference which assess *the groups* response to the stimuli. "
   ]
  },
  {
   "cell_type": "markdown",
   "metadata": {},
   "source": [
    "In short, a first-level analysis combines *timepoints for a subject* and a second-level analysis combines *subjects in a group*."
   ]
  },
  {
   "cell_type": "markdown",
   "metadata": {},
   "source": [
    "> **Note:** Again, if you are statistically minded you might be thinking, \"why are these models run seperately? Couldn't they be combined into some sort of mixed model or something?\". The answer here is; yes, often this is done. \n",
    "> \n",
    "> However, equally often there simply isn't enough data to accurately model all of the covariance terms such a model would require (remember we only have $n=96$!). There has been a whole literature arguing for and against the \"two-stage\" approach described above (c.f. [Friston, et al. (2005)](https://pubmed.ncbi.nlm.nih.gov/15588616/), [Worsley, et al. (2002)](https://pubmed.ncbi.nlm.nih.gov/11771969/)). Regardless, it is still one of the most popular approaches employed today. \n",
    "> \n",
    "> Another important factor is computation time, but that's a whole other discussion!"
   ]
  },
  {
   "cell_type": "markdown",
   "metadata": {},
   "source": [
    "## First-level Analysis: An example"
   ]
  },
  {
   "cell_type": "markdown",
   "metadata": {},
   "source": [
    "Alright, finally! Let's get onto running a first-level analysis. To begin with let's build the design matrix, $X$."
   ]
  },
  {
   "cell_type": "markdown",
   "metadata": {},
   "source": [
    "### Building $X$ and Fitting the Model"
   ]
  },
  {
   "cell_type": "markdown",
   "metadata": {},
   "source": [
    "`nilearn` contains a `first-level` module for running the linear model on subject-level data. To use it the first thing we have to do is initialize a new `FirstLevelModel` object."
   ]
  },
  {
   "cell_type": "code",
   "execution_count": 15,
   "metadata": {},
   "outputs": [
    {
     "name": "stdout",
     "output_type": "stream",
     "text": [
      "FirstLevelModel(hrf_model='spm', signal_scaling=True, t_r=7)\n"
     ]
    }
   ],
   "source": [
    "from nilearn.glm.first_level import FirstLevelModel\n",
    "\n",
    "# Initialize the first level model\n",
    "fmri_glm = FirstLevelModel(t_r=7,\n",
    "                           noise_model='ar1',\n",
    "                           standardize=False,\n",
    "                           hrf_model='spm',\n",
    "                           drift_model='cosine',\n",
    "                           high_pass=.01)\n",
    "\n",
    "print(fmri_glm)"
   ]
  },
  {
   "cell_type": "markdown",
   "metadata": {},
   "source": [
    "In the above code we have initialised a new `FirstLevelModel` object called `fmri_glm`. At the moment `fmri_glm` only contains some very basic information about the analysis we wish to run. In the above code, we have told the `fmri_glm` the following information;\n",
    "\n",
    " - `t_r`: The time of repetition (between scans) in seconds.\n",
    " \n",
    " \n",
    " - `noise_model`: The model we are assuming for the noise. In this case, we have selected an [AR($1$) model](https://en.wikipedia.org/wiki/Autoregressive_model) for $\\Sigma_v$.\n",
    " \n",
    " \n",
    " - `standardize`: This setting controls whether the time series are centered and normalized. As we have included an intercept in the design matrix (the last column of $X$) we do not need centering. As normalizing is also not necessary here we have set this to `False`.\n",
    " \n",
    " \n",
    " - `hrf_model`: In reality, we don't expect the brain to just turn \"on\" and \"off\" like a switch when neuronal activity occurs. The biology of neuronal activity is complex and must be modelled using the [Heamodynamic Response Function](https://en.wikipedia.org/wiki/Haemodynamic_response#:~:text=Haemodynamic%20response%20(HR)%20allows%20the,blood%20to%20active%20neuronal%20tissues.&text=Since%20higher%20processes%20in%20the,other%20cells%20of%20the%20brain.). In a very loose sense you can think of the Heamodynamic Response Function as a model of how a part of the brain \"warms up\" and \"starts working\" when need to start using it. There are several versions of the HRF model we could use during analysis but in general the `spm` one is fairly standard.\n",
    " \n",
    " \n",
    " - `drift_model`: This parameter tells us how we want to model drift in our timeseries data. The drift model is a set of slow oscillating functions (in our case Discrete Cosine transform) with a cut-off frequency. We use this model to represent and remove spurious low-frequency effects related to heart rate, breathing and slow drifts in the scanner signal, which we could do by setting the cutoff frequency to 1/128 Hz ~ 0.01Hz. Often we set a cutoff period as the longest period between two trials of the same condition multiplied by 2. For instance, in our case the longest period is 42s, so the `high_pass` frequency shall be 1/84 Hz ~ 0.012 Hz. This has the effect of removing periodic behaviour which is too long to be caused by our experiment. [Here](https://www.brainvoyager.com/bvqx/doc/UsersGuide/Preprocessing/TemporalHighPassFiltering.html) is a good article if you wanted to read more about this.\n",
    " \n",
    " \n",
    " \n",
    " - `high_pass`: This is the cutoff period mentioned above. In this case we have gone for 0.01Hz. "
   ]
  },
  {
   "cell_type": "markdown",
   "metadata": {},
   "source": [
    "Okay, now we have set up a `FirstLevelModel` object, we have to pass it some data. To do this we must concatenate all of the functional data into one 4D volume and pass it to the `fmri_glm.fit` method, alongside the `events.tsv`. "
   ]
  },
  {
   "cell_type": "code",
   "execution_count": 16,
   "metadata": {},
   "outputs": [],
   "source": [
    "from nilearn.image import concat_imgs\n",
    "\n",
    "# Join all the 3d functions images together into one 4d volume\n",
    "fmri_img = concat_imgs(subject_data.func)\n",
    "\n",
    "# Fit the linear model by passing the images and experimental design information to nilearn.\n",
    "fmri_glm = fmri_glm.fit(fmri_img, events)"
   ]
  },
  {
   "cell_type": "markdown",
   "metadata": {},
   "source": [
    "Behind the scenes, here we are essentially giving `nilearn` the information it needs to construct $Y_v$ for every voxel $v$ and to construct $X$. `nilearn` is then using this information to construct the linear model and perform parameter estimation for each voxel in the brain (i.e. `nilearn` is estimating $\\beta_v$ and $\\Sigma_v$ for every voxel $v$)."
   ]
  },
  {
   "cell_type": "markdown",
   "metadata": {},
   "source": [
    "Before we start looking at the model fit and results, let's first look at the design matrix $X$, which nilearn has constructed. We can get this using the `design_matrices_` property of `fmri_glm`."
   ]
  },
  {
   "cell_type": "code",
   "execution_count": 17,
   "metadata": {},
   "outputs": [],
   "source": [
    "design_matrix = fmri_glm.design_matrices_[0]"
   ]
  },
  {
   "cell_type": "markdown",
   "metadata": {},
   "source": [
    "We can make an image representing the design matrix in nilearn by using the `plot_design_matrix` function from `nilearn.plotting`."
   ]
  },
  {
   "cell_type": "code",
   "execution_count": 18,
   "metadata": {},
   "outputs": [
    {
     "data": {
      "image/png": "[encoded data removed]",
      "text/plain": [
       "<Figure size 336.96x720 with 1 Axes>"
      ]
     },
     "metadata": {
      "needs_background": "light"
     },
     "output_type": "display_data"
    }
   ],
   "source": [
    "from nilearn.plotting import plot_design_matrix\n",
    "import matplotlib.pyplot as plt\n",
    "\n",
    "# Create design matrix plot\n",
    "plot_design_matrix(design_matrix)\n",
    "\n",
    "# Show the plot\n",
    "plt.show()"
   ]
  },
  {
   "cell_type": "markdown",
   "metadata": {},
   "source": [
    "In the above image the colors correspond to the numerical values in the design matrix. If your unsure what the above image means, try comparing it to the design in numerical form given below."
   ]
  },
  {
   "cell_type": "code",
   "execution_count": 19,
   "metadata": {},
   "outputs": [
    {
     "data": {
      "text/html": [
       "<div>\n",
       "<style scoped>\n",
       "    .dataframe tbody tr th:only-of-type {\n",
       "        vertical-align: middle;\n",
       "    }\n",
       "\n",
       "    .dataframe tbody tr th {\n",
       "        vertical-align: top;\n",
       "    }\n",
       "\n",
       "    .dataframe thead th {\n",
       "        text-align: right;\n",
       "    }\n",
       "</style>\n",
       "<table border=\"1\" class=\"dataframe\">\n",
       "  <thead>\n",
       "    <tr style=\"text-align: right;\">\n",
       "      <th></th>\n",
       "      <th>active</th>\n",
       "      <th>rest</th>\n",
       "      <th>drift_1</th>\n",
       "      <th>drift_2</th>\n",
       "      <th>drift_3</th>\n",
       "      <th>drift_4</th>\n",
       "      <th>drift_5</th>\n",
       "      <th>drift_6</th>\n",
       "      <th>drift_7</th>\n",
       "      <th>drift_8</th>\n",
       "      <th>drift_9</th>\n",
       "      <th>drift_10</th>\n",
       "      <th>drift_11</th>\n",
       "      <th>drift_12</th>\n",
       "      <th>drift_13</th>\n",
       "      <th>constant</th>\n",
       "    </tr>\n",
       "  </thead>\n",
       "  <tbody>\n",
       "    <tr>\n",
       "      <th>0.0</th>\n",
       "      <td>0.000000</td>\n",
       "      <td>0.000000</td>\n",
       "      <td>0.144318</td>\n",
       "      <td>0.144260</td>\n",
       "      <td>0.144164</td>\n",
       "      <td>0.144029</td>\n",
       "      <td>0.143855</td>\n",
       "      <td>0.143643</td>\n",
       "      <td>0.143392</td>\n",
       "      <td>0.143103</td>\n",
       "      <td>0.142775</td>\n",
       "      <td>0.142410</td>\n",
       "      <td>0.142006</td>\n",
       "      <td>0.141564</td>\n",
       "      <td>0.141084</td>\n",
       "      <td>1.0</td>\n",
       "    </tr>\n",
       "    <tr>\n",
       "      <th>7.0</th>\n",
       "      <td>0.000000</td>\n",
       "      <td>0.817784</td>\n",
       "      <td>0.144164</td>\n",
       "      <td>0.143643</td>\n",
       "      <td>0.142775</td>\n",
       "      <td>0.141564</td>\n",
       "      <td>0.140012</td>\n",
       "      <td>0.138122</td>\n",
       "      <td>0.135900</td>\n",
       "      <td>0.133351</td>\n",
       "      <td>0.130480</td>\n",
       "      <td>0.127294</td>\n",
       "      <td>0.123802</td>\n",
       "      <td>0.120012</td>\n",
       "      <td>0.115933</td>\n",
       "      <td>1.0</td>\n",
       "    </tr>\n",
       "    <tr>\n",
       "      <th>14.0</th>\n",
       "      <td>0.000000</td>\n",
       "      <td>1.129175</td>\n",
       "      <td>0.143855</td>\n",
       "      <td>0.142410</td>\n",
       "      <td>0.140012</td>\n",
       "      <td>0.136678</td>\n",
       "      <td>0.132429</td>\n",
       "      <td>0.127294</td>\n",
       "      <td>0.121308</td>\n",
       "      <td>0.114511</td>\n",
       "      <td>0.106947</td>\n",
       "      <td>0.098668</td>\n",
       "      <td>0.089729</td>\n",
       "      <td>0.080190</td>\n",
       "      <td>0.070114</td>\n",
       "      <td>1.0</td>\n",
       "    </tr>\n",
       "    <tr>\n",
       "      <th>21.0</th>\n",
       "      <td>0.000000</td>\n",
       "      <td>1.022902</td>\n",
       "      <td>0.143392</td>\n",
       "      <td>0.140567</td>\n",
       "      <td>0.135900</td>\n",
       "      <td>0.129452</td>\n",
       "      <td>0.121308</td>\n",
       "      <td>0.111574</td>\n",
       "      <td>0.100378</td>\n",
       "      <td>0.087867</td>\n",
       "      <td>0.074204</td>\n",
       "      <td>0.059569</td>\n",
       "      <td>0.044153</td>\n",
       "      <td>0.028159</td>\n",
       "      <td>0.011795</td>\n",
       "      <td>1.0</td>\n",
       "    </tr>\n",
       "    <tr>\n",
       "      <th>28.0</th>\n",
       "      <td>0.000000</td>\n",
       "      <td>1.000997</td>\n",
       "      <td>0.142775</td>\n",
       "      <td>0.138122</td>\n",
       "      <td>0.130480</td>\n",
       "      <td>0.120012</td>\n",
       "      <td>0.106947</td>\n",
       "      <td>0.091567</td>\n",
       "      <td>0.074204</td>\n",
       "      <td>0.055236</td>\n",
       "      <td>0.035071</td>\n",
       "      <td>0.014148</td>\n",
       "      <td>-0.007082</td>\n",
       "      <td>-0.028159</td>\n",
       "      <td>-0.048626</td>\n",
       "      <td>1.0</td>\n",
       "    </tr>\n",
       "    <tr>\n",
       "      <th>35.0</th>\n",
       "      <td>0.000000</td>\n",
       "      <td>1.000000</td>\n",
       "      <td>0.142006</td>\n",
       "      <td>0.135086</td>\n",
       "      <td>0.123802</td>\n",
       "      <td>0.108519</td>\n",
       "      <td>0.089729</td>\n",
       "      <td>0.068040</td>\n",
       "      <td>0.044153</td>\n",
       "      <td>0.018840</td>\n",
       "      <td>-0.007082</td>\n",
       "      <td>-0.032776</td>\n",
       "      <td>-0.057410</td>\n",
       "      <td>-0.080190</td>\n",
       "      <td>-0.100378</td>\n",
       "      <td>1.0</td>\n",
       "    </tr>\n",
       "    <tr>\n",
       "      <th>42.0</th>\n",
       "      <td>0.000000</td>\n",
       "      <td>1.000000</td>\n",
       "      <td>0.141084</td>\n",
       "      <td>0.131472</td>\n",
       "      <td>0.115933</td>\n",
       "      <td>0.095168</td>\n",
       "      <td>0.070114</td>\n",
       "      <td>0.041899</td>\n",
       "      <td>0.011795</td>\n",
       "      <td>-0.018840</td>\n",
       "      <td>-0.048626</td>\n",
       "      <td>-0.076220</td>\n",
       "      <td>-0.100378</td>\n",
       "      <td>-0.120012</td>\n",
       "      <td>-0.134236</td>\n",
       "      <td>1.0</td>\n",
       "    </tr>\n",
       "    <tr>\n",
       "      <th>49.0</th>\n",
       "      <td>0.817210</td>\n",
       "      <td>0.182790</td>\n",
       "      <td>0.140012</td>\n",
       "      <td>0.127294</td>\n",
       "      <td>0.106947</td>\n",
       "      <td>0.080190</td>\n",
       "      <td>0.048626</td>\n",
       "      <td>0.014148</td>\n",
       "      <td>-0.021179</td>\n",
       "      <td>-0.055236</td>\n",
       "      <td>-0.085982</td>\n",
       "      <td>-0.111574</td>\n",
       "      <td>-0.130480</td>\n",
       "      <td>-0.141564</td>\n",
       "      <td>-0.144164</td>\n",
       "      <td>1.0</td>\n",
       "    </tr>\n",
       "    <tr>\n",
       "      <th>56.0</th>\n",
       "      <td>1.129229</td>\n",
       "      <td>-0.129229</td>\n",
       "      <td>0.138789</td>\n",
       "      <td>0.122572</td>\n",
       "      <td>0.096931</td>\n",
       "      <td>0.063839</td>\n",
       "      <td>0.025839</td>\n",
       "      <td>-0.014148</td>\n",
       "      <td>-0.053046</td>\n",
       "      <td>-0.087867</td>\n",
       "      <td>-0.115933</td>\n",
       "      <td>-0.135086</td>\n",
       "      <td>-0.143855</td>\n",
       "      <td>-0.141564</td>\n",
       "      <td>-0.128391</td>\n",
       "      <td>1.0</td>\n",
       "    </tr>\n",
       "    <tr>\n",
       "      <th>63.0</th>\n",
       "      <td>1.022931</td>\n",
       "      <td>-0.022931</td>\n",
       "      <td>0.137418</td>\n",
       "      <td>0.117324</td>\n",
       "      <td>0.085982</td>\n",
       "      <td>0.046396</td>\n",
       "      <td>0.002362</td>\n",
       "      <td>-0.041899</td>\n",
       "      <td>-0.082143</td>\n",
       "      <td>-0.114511</td>\n",
       "      <td>-0.135900</td>\n",
       "      <td>-0.144260</td>\n",
       "      <td>-0.138789</td>\n",
       "      <td>-0.120012</td>\n",
       "      <td>-0.089729</td>\n",
       "      <td>1.0</td>\n",
       "    </tr>\n",
       "    <tr>\n",
       "      <th>70.0</th>\n",
       "      <td>1.000999</td>\n",
       "      <td>-0.000999</td>\n",
       "      <td>0.135900</td>\n",
       "      <td>0.111574</td>\n",
       "      <td>0.074204</td>\n",
       "      <td>0.028159</td>\n",
       "      <td>-0.021179</td>\n",
       "      <td>-0.068040</td>\n",
       "      <td>-0.106947</td>\n",
       "      <td>-0.133351</td>\n",
       "      <td>-0.144164</td>\n",
       "      <td>-0.138122</td>\n",
       "      <td>-0.115933</td>\n",
       "      <td>-0.080190</td>\n",
       "      <td>-0.035071</td>\n",
       "      <td>1.0</td>\n",
       "    </tr>\n",
       "    <tr>\n",
       "      <th>77.0</th>\n",
       "      <td>1.000000</td>\n",
       "      <td>0.000000</td>\n",
       "      <td>0.134236</td>\n",
       "      <td>0.105347</td>\n",
       "      <td>0.061712</td>\n",
       "      <td>0.009440</td>\n",
       "      <td>-0.044153</td>\n",
       "      <td>-0.091567</td>\n",
       "      <td>-0.126164</td>\n",
       "      <td>-0.143103</td>\n",
       "      <td>-0.140012</td>\n",
       "      <td>-0.117324</td>\n",
       "      <td>-0.078215</td>\n",
       "      <td>-0.028159</td>\n",
       "      <td>0.025839</td>\n",
       "      <td>1.0</td>\n",
       "    </tr>\n",
       "    <tr>\n",
       "      <th>84.0</th>\n",
       "      <td>1.000000</td>\n",
       "      <td>0.000000</td>\n",
       "      <td>0.132429</td>\n",
       "      <td>0.098668</td>\n",
       "      <td>0.048626</td>\n",
       "      <td>-0.009440</td>\n",
       "      <td>-0.065948</td>\n",
       "      <td>-0.111574</td>\n",
       "      <td>-0.138789</td>\n",
       "      <td>-0.143103</td>\n",
       "      <td>-0.123802</td>\n",
       "      <td>-0.084073</td>\n",
       "      <td>-0.030471</td>\n",
       "      <td>0.028159</td>\n",
       "      <td>0.082143</td>\n",
       "      <td>1.0</td>\n",
       "    </tr>\n",
       "    <tr>\n",
       "      <th>91.0</th>\n",
       "      <td>0.183364</td>\n",
       "      <td>0.816636</td>\n",
       "      <td>0.130480</td>\n",
       "      <td>0.091567</td>\n",
       "      <td>0.035071</td>\n",
       "      <td>-0.028159</td>\n",
       "      <td>-0.085982</td>\n",
       "      <td>-0.127294</td>\n",
       "      <td>-0.144164</td>\n",
       "      <td>-0.133351</td>\n",
       "      <td>-0.096931</td>\n",
       "      <td>-0.041899</td>\n",
       "      <td>0.021179</td>\n",
       "      <td>0.080190</td>\n",
       "      <td>0.123802</td>\n",
       "      <td>1.0</td>\n",
       "    </tr>\n",
       "    <tr>\n",
       "      <th>98.0</th>\n",
       "      <td>-0.129283</td>\n",
       "      <td>1.129283</td>\n",
       "      <td>0.128391</td>\n",
       "      <td>0.084073</td>\n",
       "      <td>0.021179</td>\n",
       "      <td>-0.046396</td>\n",
       "      <td>-0.103718</td>\n",
       "      <td>-0.138122</td>\n",
       "      <td>-0.142006</td>\n",
       "      <td>-0.114511</td>\n",
       "      <td>-0.061712</td>\n",
       "      <td>0.004723</td>\n",
       "      <td>0.070114</td>\n",
       "      <td>0.120012</td>\n",
       "      <td>0.143392</td>\n",
       "      <td>1.0</td>\n",
       "    </tr>\n",
       "    <tr>\n",
       "      <th>105.0</th>\n",
       "      <td>-0.022960</td>\n",
       "      <td>1.022960</td>\n",
       "      <td>0.126164</td>\n",
       "      <td>0.076220</td>\n",
       "      <td>0.007082</td>\n",
       "      <td>-0.063839</td>\n",
       "      <td>-0.118684</td>\n",
       "      <td>-0.143643</td>\n",
       "      <td>-0.132429</td>\n",
       "      <td>-0.087867</td>\n",
       "      <td>-0.021179</td>\n",
       "      <td>0.050843</td>\n",
       "      <td>0.110061</td>\n",
       "      <td>0.141564</td>\n",
       "      <td>0.137418</td>\n",
       "      <td>1.0</td>\n",
       "    </tr>\n",
       "    <tr>\n",
       "      <th>112.0</th>\n",
       "      <td>-0.001001</td>\n",
       "      <td>1.001001</td>\n",
       "      <td>0.123802</td>\n",
       "      <td>0.068040</td>\n",
       "      <td>-0.007082</td>\n",
       "      <td>-0.080190</td>\n",
       "      <td>-0.130480</td>\n",
       "      <td>-0.143643</td>\n",
       "      <td>-0.115933</td>\n",
       "      <td>-0.055236</td>\n",
       "      <td>0.021179</td>\n",
       "      <td>0.091567</td>\n",
       "      <td>0.135900</td>\n",
       "      <td>0.141564</td>\n",
       "      <td>0.106947</td>\n",
       "      <td>1.0</td>\n",
       "    </tr>\n",
       "    <tr>\n",
       "      <th>119.0</th>\n",
       "      <td>0.000000</td>\n",
       "      <td>1.000000</td>\n",
       "      <td>0.121308</td>\n",
       "      <td>0.059569</td>\n",
       "      <td>-0.021179</td>\n",
       "      <td>-0.095168</td>\n",
       "      <td>-0.138789</td>\n",
       "      <td>-0.138122</td>\n",
       "      <td>-0.093380</td>\n",
       "      <td>-0.018840</td>\n",
       "      <td>0.061712</td>\n",
       "      <td>0.122572</td>\n",
       "      <td>0.144318</td>\n",
       "      <td>0.120012</td>\n",
       "      <td>0.057410</td>\n",
       "      <td>1.0</td>\n",
       "    </tr>\n",
       "    <tr>\n",
       "      <th>126.0</th>\n",
       "      <td>0.000000</td>\n",
       "      <td>1.000000</td>\n",
       "      <td>0.118684</td>\n",
       "      <td>0.050843</td>\n",
       "      <td>-0.035071</td>\n",
       "      <td>-0.108519</td>\n",
       "      <td>-0.143392</td>\n",
       "      <td>-0.127294</td>\n",
       "      <td>-0.065948</td>\n",
       "      <td>0.018840</td>\n",
       "      <td>0.096931</td>\n",
       "      <td>0.140567</td>\n",
       "      <td>0.134236</td>\n",
       "      <td>0.080190</td>\n",
       "      <td>-0.002362</td>\n",
       "      <td>1.0</td>\n",
       "    </tr>\n",
       "    <tr>\n",
       "      <th>133.0</th>\n",
       "      <td>0.816063</td>\n",
       "      <td>0.183937</td>\n",
       "      <td>0.115933</td>\n",
       "      <td>0.041899</td>\n",
       "      <td>-0.048626</td>\n",
       "      <td>-0.120012</td>\n",
       "      <td>-0.144164</td>\n",
       "      <td>-0.111574</td>\n",
       "      <td>-0.035071</td>\n",
       "      <td>0.055236</td>\n",
       "      <td>0.123802</td>\n",
       "      <td>0.143643</td>\n",
       "      <td>0.106947</td>\n",
       "      <td>0.028159</td>\n",
       "      <td>-0.061712</td>\n",
       "      <td>1.0</td>\n",
       "    </tr>\n",
       "    <tr>\n",
       "      <th>140.0</th>\n",
       "      <td>1.129337</td>\n",
       "      <td>-0.129337</td>\n",
       "      <td>0.113058</td>\n",
       "      <td>0.032776</td>\n",
       "      <td>-0.061712</td>\n",
       "      <td>-0.129452</td>\n",
       "      <td>-0.141084</td>\n",
       "      <td>-0.091567</td>\n",
       "      <td>-0.002362</td>\n",
       "      <td>0.087867</td>\n",
       "      <td>0.140012</td>\n",
       "      <td>0.131472</td>\n",
       "      <td>0.065948</td>\n",
       "      <td>-0.028159</td>\n",
       "      <td>-0.110061</td>\n",
       "      <td>1.0</td>\n",
       "    </tr>\n",
       "    <tr>\n",
       "      <th>147.0</th>\n",
       "      <td>1.022990</td>\n",
       "      <td>-0.022990</td>\n",
       "      <td>0.110061</td>\n",
       "      <td>0.023512</td>\n",
       "      <td>-0.074204</td>\n",
       "      <td>-0.136678</td>\n",
       "      <td>-0.134236</td>\n",
       "      <td>-0.068040</td>\n",
       "      <td>0.030471</td>\n",
       "      <td>0.114511</td>\n",
       "      <td>0.144164</td>\n",
       "      <td>0.105347</td>\n",
       "      <td>0.016496</td>\n",
       "      <td>-0.080190</td>\n",
       "      <td>-0.138789</td>\n",
       "      <td>1.0</td>\n",
       "    </tr>\n",
       "    <tr>\n",
       "      <th>154.0</th>\n",
       "      <td>1.001003</td>\n",
       "      <td>-0.001003</td>\n",
       "      <td>0.106947</td>\n",
       "      <td>0.014148</td>\n",
       "      <td>-0.085982</td>\n",
       "      <td>-0.141564</td>\n",
       "      <td>-0.123802</td>\n",
       "      <td>-0.041899</td>\n",
       "      <td>0.061712</td>\n",
       "      <td>0.133351</td>\n",
       "      <td>0.135900</td>\n",
       "      <td>0.068040</td>\n",
       "      <td>-0.035071</td>\n",
       "      <td>-0.120012</td>\n",
       "      <td>-0.142775</td>\n",
       "      <td>1.0</td>\n",
       "    </tr>\n",
       "    <tr>\n",
       "      <th>161.0</th>\n",
       "      <td>1.000000</td>\n",
       "      <td>0.000000</td>\n",
       "      <td>0.103718</td>\n",
       "      <td>0.004723</td>\n",
       "      <td>-0.096931</td>\n",
       "      <td>-0.144029</td>\n",
       "      <td>-0.110061</td>\n",
       "      <td>-0.014148</td>\n",
       "      <td>0.089729</td>\n",
       "      <td>0.143103</td>\n",
       "      <td>0.115933</td>\n",
       "      <td>0.023512</td>\n",
       "      <td>-0.082143</td>\n",
       "      <td>-0.141564</td>\n",
       "      <td>-0.121308</td>\n",
       "      <td>1.0</td>\n",
       "    </tr>\n",
       "    <tr>\n",
       "      <th>168.0</th>\n",
       "      <td>1.000000</td>\n",
       "      <td>0.000000</td>\n",
       "      <td>0.100378</td>\n",
       "      <td>-0.004723</td>\n",
       "      <td>-0.106947</td>\n",
       "      <td>-0.144029</td>\n",
       "      <td>-0.093380</td>\n",
       "      <td>0.014148</td>\n",
       "      <td>0.113058</td>\n",
       "      <td>0.143103</td>\n",
       "      <td>0.085982</td>\n",
       "      <td>-0.023512</td>\n",
       "      <td>-0.118684</td>\n",
       "      <td>-0.141564</td>\n",
       "      <td>-0.078215</td>\n",
       "      <td>1.0</td>\n",
       "    </tr>\n",
       "    <tr>\n",
       "      <th>175.0</th>\n",
       "      <td>0.184511</td>\n",
       "      <td>0.815489</td>\n",
       "      <td>0.096931</td>\n",
       "      <td>-0.014148</td>\n",
       "      <td>-0.115933</td>\n",
       "      <td>-0.141564</td>\n",
       "      <td>-0.074204</td>\n",
       "      <td>0.041899</td>\n",
       "      <td>0.130480</td>\n",
       "      <td>0.133351</td>\n",
       "      <td>0.048626</td>\n",
       "      <td>-0.068040</td>\n",
       "      <td>-0.140012</td>\n",
       "      <td>-0.120012</td>\n",
       "      <td>-0.021179</td>\n",
       "      <td>1.0</td>\n",
       "    </tr>\n",
       "    <tr>\n",
       "      <th>182.0</th>\n",
       "      <td>-0.129391</td>\n",
       "      <td>1.129391</td>\n",
       "      <td>0.093380</td>\n",
       "      <td>-0.023512</td>\n",
       "      <td>-0.123802</td>\n",
       "      <td>-0.136678</td>\n",
       "      <td>-0.053046</td>\n",
       "      <td>0.068040</td>\n",
       "      <td>0.141084</td>\n",
       "      <td>0.114511</td>\n",
       "      <td>0.007082</td>\n",
       "      <td>-0.105347</td>\n",
       "      <td>-0.143392</td>\n",
       "      <td>-0.080190</td>\n",
       "      <td>0.039633</td>\n",
       "      <td>1.0</td>\n",
       "    </tr>\n",
       "    <tr>\n",
       "      <th>189.0</th>\n",
       "      <td>-0.023019</td>\n",
       "      <td>1.023019</td>\n",
       "      <td>0.089729</td>\n",
       "      <td>-0.032776</td>\n",
       "      <td>-0.130480</td>\n",
       "      <td>-0.129452</td>\n",
       "      <td>-0.030471</td>\n",
       "      <td>0.091567</td>\n",
       "      <td>0.144318</td>\n",
       "      <td>0.087867</td>\n",
       "      <td>-0.035071</td>\n",
       "      <td>-0.131472</td>\n",
       "      <td>-0.128391</td>\n",
       "      <td>-0.028159</td>\n",
       "      <td>0.093380</td>\n",
       "      <td>1.0</td>\n",
       "    </tr>\n",
       "    <tr>\n",
       "      <th>196.0</th>\n",
       "      <td>-0.001005</td>\n",
       "      <td>1.001005</td>\n",
       "      <td>0.085982</td>\n",
       "      <td>-0.041899</td>\n",
       "      <td>-0.135900</td>\n",
       "      <td>-0.120012</td>\n",
       "      <td>-0.007082</td>\n",
       "      <td>0.111574</td>\n",
       "      <td>0.140012</td>\n",
       "      <td>0.055236</td>\n",
       "      <td>-0.074204</td>\n",
       "      <td>-0.143643</td>\n",
       "      <td>-0.096931</td>\n",
       "      <td>0.028159</td>\n",
       "      <td>0.130480</td>\n",
       "      <td>1.0</td>\n",
       "    </tr>\n",
       "    <tr>\n",
       "      <th>203.0</th>\n",
       "      <td>0.000000</td>\n",
       "      <td>1.000000</td>\n",
       "      <td>0.082143</td>\n",
       "      <td>-0.050843</td>\n",
       "      <td>-0.140012</td>\n",
       "      <td>-0.108519</td>\n",
       "      <td>0.016496</td>\n",
       "      <td>0.127294</td>\n",
       "      <td>0.128391</td>\n",
       "      <td>0.018840</td>\n",
       "      <td>-0.106947</td>\n",
       "      <td>-0.140567</td>\n",
       "      <td>-0.053046</td>\n",
       "      <td>0.080190</td>\n",
       "      <td>0.144318</td>\n",
       "      <td>1.0</td>\n",
       "    </tr>\n",
       "    <tr>\n",
       "      <th>...</th>\n",
       "      <td>...</td>\n",
       "      <td>...</td>\n",
       "      <td>...</td>\n",
       "      <td>...</td>\n",
       "      <td>...</td>\n",
       "      <td>...</td>\n",
       "      <td>...</td>\n",
       "      <td>...</td>\n",
       "      <td>...</td>\n",
       "      <td>...</td>\n",
       "      <td>...</td>\n",
       "      <td>...</td>\n",
       "      <td>...</td>\n",
       "      <td>...</td>\n",
       "      <td>...</td>\n",
       "      <td>...</td>\n",
       "    </tr>\n",
       "    <tr>\n",
       "      <th>462.0</th>\n",
       "      <td>0.000000</td>\n",
       "      <td>1.000000</td>\n",
       "      <td>-0.082143</td>\n",
       "      <td>-0.050843</td>\n",
       "      <td>0.140012</td>\n",
       "      <td>-0.108519</td>\n",
       "      <td>-0.016496</td>\n",
       "      <td>0.127294</td>\n",
       "      <td>-0.128391</td>\n",
       "      <td>0.018840</td>\n",
       "      <td>0.106947</td>\n",
       "      <td>-0.140567</td>\n",
       "      <td>0.053046</td>\n",
       "      <td>0.080190</td>\n",
       "      <td>-0.144318</td>\n",
       "      <td>1.0</td>\n",
       "    </tr>\n",
       "    <tr>\n",
       "      <th>469.0</th>\n",
       "      <td>0.811473</td>\n",
       "      <td>0.188527</td>\n",
       "      <td>-0.085982</td>\n",
       "      <td>-0.041899</td>\n",
       "      <td>0.135900</td>\n",
       "      <td>-0.120012</td>\n",
       "      <td>0.007082</td>\n",
       "      <td>0.111574</td>\n",
       "      <td>-0.140012</td>\n",
       "      <td>0.055236</td>\n",
       "      <td>0.074204</td>\n",
       "      <td>-0.143643</td>\n",
       "      <td>0.096931</td>\n",
       "      <td>0.028159</td>\n",
       "      <td>-0.130480</td>\n",
       "      <td>1.0</td>\n",
       "    </tr>\n",
       "    <tr>\n",
       "      <th>476.0</th>\n",
       "      <td>1.129769</td>\n",
       "      <td>-0.129769</td>\n",
       "      <td>-0.089729</td>\n",
       "      <td>-0.032776</td>\n",
       "      <td>0.130480</td>\n",
       "      <td>-0.129452</td>\n",
       "      <td>0.030471</td>\n",
       "      <td>0.091567</td>\n",
       "      <td>-0.144318</td>\n",
       "      <td>0.087867</td>\n",
       "      <td>0.035071</td>\n",
       "      <td>-0.131472</td>\n",
       "      <td>0.128391</td>\n",
       "      <td>-0.028159</td>\n",
       "      <td>-0.093380</td>\n",
       "      <td>1.0</td>\n",
       "    </tr>\n",
       "    <tr>\n",
       "      <th>483.0</th>\n",
       "      <td>1.023224</td>\n",
       "      <td>-0.023224</td>\n",
       "      <td>-0.093380</td>\n",
       "      <td>-0.023512</td>\n",
       "      <td>0.123802</td>\n",
       "      <td>-0.136678</td>\n",
       "      <td>0.053046</td>\n",
       "      <td>0.068040</td>\n",
       "      <td>-0.141084</td>\n",
       "      <td>0.114511</td>\n",
       "      <td>-0.007082</td>\n",
       "      <td>-0.105347</td>\n",
       "      <td>0.143392</td>\n",
       "      <td>-0.080190</td>\n",
       "      <td>-0.039633</td>\n",
       "      <td>1.0</td>\n",
       "    </tr>\n",
       "    <tr>\n",
       "      <th>490.0</th>\n",
       "      <td>1.001019</td>\n",
       "      <td>-0.001019</td>\n",
       "      <td>-0.096931</td>\n",
       "      <td>-0.014148</td>\n",
       "      <td>0.115933</td>\n",
       "      <td>-0.141564</td>\n",
       "      <td>0.074204</td>\n",
       "      <td>0.041899</td>\n",
       "      <td>-0.130480</td>\n",
       "      <td>0.133351</td>\n",
       "      <td>-0.048626</td>\n",
       "      <td>-0.068040</td>\n",
       "      <td>0.140012</td>\n",
       "      <td>-0.120012</td>\n",
       "      <td>0.021179</td>\n",
       "      <td>1.0</td>\n",
       "    </tr>\n",
       "    <tr>\n",
       "      <th>497.0</th>\n",
       "      <td>1.000000</td>\n",
       "      <td>0.000000</td>\n",
       "      <td>-0.100378</td>\n",
       "      <td>-0.004723</td>\n",
       "      <td>0.106947</td>\n",
       "      <td>-0.144029</td>\n",
       "      <td>0.093380</td>\n",
       "      <td>0.014148</td>\n",
       "      <td>-0.113058</td>\n",
       "      <td>0.143103</td>\n",
       "      <td>-0.085982</td>\n",
       "      <td>-0.023512</td>\n",
       "      <td>0.118684</td>\n",
       "      <td>-0.141564</td>\n",
       "      <td>0.078215</td>\n",
       "      <td>1.0</td>\n",
       "    </tr>\n",
       "    <tr>\n",
       "      <th>504.0</th>\n",
       "      <td>1.000000</td>\n",
       "      <td>0.000000</td>\n",
       "      <td>-0.103718</td>\n",
       "      <td>0.004723</td>\n",
       "      <td>0.096931</td>\n",
       "      <td>-0.144029</td>\n",
       "      <td>0.110061</td>\n",
       "      <td>-0.014148</td>\n",
       "      <td>-0.089729</td>\n",
       "      <td>0.143103</td>\n",
       "      <td>-0.115933</td>\n",
       "      <td>0.023512</td>\n",
       "      <td>0.082143</td>\n",
       "      <td>-0.141564</td>\n",
       "      <td>0.121308</td>\n",
       "      <td>1.0</td>\n",
       "    </tr>\n",
       "    <tr>\n",
       "      <th>511.0</th>\n",
       "      <td>0.189101</td>\n",
       "      <td>0.810899</td>\n",
       "      <td>-0.106947</td>\n",
       "      <td>0.014148</td>\n",
       "      <td>0.085982</td>\n",
       "      <td>-0.141564</td>\n",
       "      <td>0.123802</td>\n",
       "      <td>-0.041899</td>\n",
       "      <td>-0.061712</td>\n",
       "      <td>0.133351</td>\n",
       "      <td>-0.135900</td>\n",
       "      <td>0.068040</td>\n",
       "      <td>0.035071</td>\n",
       "      <td>-0.120012</td>\n",
       "      <td>0.142775</td>\n",
       "      <td>1.0</td>\n",
       "    </tr>\n",
       "    <tr>\n",
       "      <th>518.0</th>\n",
       "      <td>-0.129823</td>\n",
       "      <td>1.129823</td>\n",
       "      <td>-0.110061</td>\n",
       "      <td>0.023512</td>\n",
       "      <td>0.074204</td>\n",
       "      <td>-0.136678</td>\n",
       "      <td>0.134236</td>\n",
       "      <td>-0.068040</td>\n",
       "      <td>-0.030471</td>\n",
       "      <td>0.114511</td>\n",
       "      <td>-0.144164</td>\n",
       "      <td>0.105347</td>\n",
       "      <td>-0.016496</td>\n",
       "      <td>-0.080190</td>\n",
       "      <td>0.138789</td>\n",
       "      <td>1.0</td>\n",
       "    </tr>\n",
       "    <tr>\n",
       "      <th>525.0</th>\n",
       "      <td>-0.023254</td>\n",
       "      <td>1.023254</td>\n",
       "      <td>-0.113058</td>\n",
       "      <td>0.032776</td>\n",
       "      <td>0.061712</td>\n",
       "      <td>-0.129452</td>\n",
       "      <td>0.141084</td>\n",
       "      <td>-0.091567</td>\n",
       "      <td>0.002362</td>\n",
       "      <td>0.087867</td>\n",
       "      <td>-0.140012</td>\n",
       "      <td>0.131472</td>\n",
       "      <td>-0.065948</td>\n",
       "      <td>-0.028159</td>\n",
       "      <td>0.110061</td>\n",
       "      <td>1.0</td>\n",
       "    </tr>\n",
       "    <tr>\n",
       "      <th>532.0</th>\n",
       "      <td>-0.001021</td>\n",
       "      <td>1.001021</td>\n",
       "      <td>-0.115933</td>\n",
       "      <td>0.041899</td>\n",
       "      <td>0.048626</td>\n",
       "      <td>-0.120012</td>\n",
       "      <td>0.144164</td>\n",
       "      <td>-0.111574</td>\n",
       "      <td>0.035071</td>\n",
       "      <td>0.055236</td>\n",
       "      <td>-0.123802</td>\n",
       "      <td>0.143643</td>\n",
       "      <td>-0.106947</td>\n",
       "      <td>0.028159</td>\n",
       "      <td>0.061712</td>\n",
       "      <td>1.0</td>\n",
       "    </tr>\n",
       "    <tr>\n",
       "      <th>539.0</th>\n",
       "      <td>0.000000</td>\n",
       "      <td>1.000000</td>\n",
       "      <td>-0.118684</td>\n",
       "      <td>0.050843</td>\n",
       "      <td>0.035071</td>\n",
       "      <td>-0.108519</td>\n",
       "      <td>0.143392</td>\n",
       "      <td>-0.127294</td>\n",
       "      <td>0.065948</td>\n",
       "      <td>0.018840</td>\n",
       "      <td>-0.096931</td>\n",
       "      <td>0.140567</td>\n",
       "      <td>-0.134236</td>\n",
       "      <td>0.080190</td>\n",
       "      <td>0.002362</td>\n",
       "      <td>1.0</td>\n",
       "    </tr>\n",
       "    <tr>\n",
       "      <th>546.0</th>\n",
       "      <td>0.000000</td>\n",
       "      <td>1.000000</td>\n",
       "      <td>-0.121308</td>\n",
       "      <td>0.059569</td>\n",
       "      <td>0.021179</td>\n",
       "      <td>-0.095168</td>\n",
       "      <td>0.138789</td>\n",
       "      <td>-0.138122</td>\n",
       "      <td>0.093380</td>\n",
       "      <td>-0.018840</td>\n",
       "      <td>-0.061712</td>\n",
       "      <td>0.122572</td>\n",
       "      <td>-0.144318</td>\n",
       "      <td>0.120012</td>\n",
       "      <td>-0.057410</td>\n",
       "      <td>1.0</td>\n",
       "    </tr>\n",
       "    <tr>\n",
       "      <th>553.0</th>\n",
       "      <td>0.810325</td>\n",
       "      <td>0.189675</td>\n",
       "      <td>-0.123802</td>\n",
       "      <td>0.068040</td>\n",
       "      <td>0.007082</td>\n",
       "      <td>-0.080190</td>\n",
       "      <td>0.130480</td>\n",
       "      <td>-0.143643</td>\n",
       "      <td>0.115933</td>\n",
       "      <td>-0.055236</td>\n",
       "      <td>-0.021179</td>\n",
       "      <td>0.091567</td>\n",
       "      <td>-0.135900</td>\n",
       "      <td>0.141564</td>\n",
       "      <td>-0.106947</td>\n",
       "      <td>1.0</td>\n",
       "    </tr>\n",
       "    <tr>\n",
       "      <th>560.0</th>\n",
       "      <td>1.129877</td>\n",
       "      <td>-0.129877</td>\n",
       "      <td>-0.126164</td>\n",
       "      <td>0.076220</td>\n",
       "      <td>-0.007082</td>\n",
       "      <td>-0.063839</td>\n",
       "      <td>0.118684</td>\n",
       "      <td>-0.143643</td>\n",
       "      <td>0.132429</td>\n",
       "      <td>-0.087867</td>\n",
       "      <td>0.021179</td>\n",
       "      <td>0.050843</td>\n",
       "      <td>-0.110061</td>\n",
       "      <td>0.141564</td>\n",
       "      <td>-0.137418</td>\n",
       "      <td>1.0</td>\n",
       "    </tr>\n",
       "    <tr>\n",
       "      <th>567.0</th>\n",
       "      <td>1.023283</td>\n",
       "      <td>-0.023283</td>\n",
       "      <td>-0.128391</td>\n",
       "      <td>0.084073</td>\n",
       "      <td>-0.021179</td>\n",
       "      <td>-0.046396</td>\n",
       "      <td>0.103718</td>\n",
       "      <td>-0.138122</td>\n",
       "      <td>0.142006</td>\n",
       "      <td>-0.114511</td>\n",
       "      <td>0.061712</td>\n",
       "      <td>0.004723</td>\n",
       "      <td>-0.070114</td>\n",
       "      <td>0.120012</td>\n",
       "      <td>-0.143392</td>\n",
       "      <td>1.0</td>\n",
       "    </tr>\n",
       "    <tr>\n",
       "      <th>574.0</th>\n",
       "      <td>1.001023</td>\n",
       "      <td>-0.001023</td>\n",
       "      <td>-0.130480</td>\n",
       "      <td>0.091567</td>\n",
       "      <td>-0.035071</td>\n",
       "      <td>-0.028159</td>\n",
       "      <td>0.085982</td>\n",
       "      <td>-0.127294</td>\n",
       "      <td>0.144164</td>\n",
       "      <td>-0.133351</td>\n",
       "      <td>0.096931</td>\n",
       "      <td>-0.041899</td>\n",
       "      <td>-0.021179</td>\n",
       "      <td>0.080190</td>\n",
       "      <td>-0.123802</td>\n",
       "      <td>1.0</td>\n",
       "    </tr>\n",
       "    <tr>\n",
       "      <th>581.0</th>\n",
       "      <td>1.000000</td>\n",
       "      <td>0.000000</td>\n",
       "      <td>-0.132429</td>\n",
       "      <td>0.098668</td>\n",
       "      <td>-0.048626</td>\n",
       "      <td>-0.009440</td>\n",
       "      <td>0.065948</td>\n",
       "      <td>-0.111574</td>\n",
       "      <td>0.138789</td>\n",
       "      <td>-0.143103</td>\n",
       "      <td>0.123802</td>\n",
       "      <td>-0.084073</td>\n",
       "      <td>0.030471</td>\n",
       "      <td>0.028159</td>\n",
       "      <td>-0.082143</td>\n",
       "      <td>1.0</td>\n",
       "    </tr>\n",
       "    <tr>\n",
       "      <th>588.0</th>\n",
       "      <td>1.000000</td>\n",
       "      <td>0.000000</td>\n",
       "      <td>-0.134236</td>\n",
       "      <td>0.105347</td>\n",
       "      <td>-0.061712</td>\n",
       "      <td>0.009440</td>\n",
       "      <td>0.044153</td>\n",
       "      <td>-0.091567</td>\n",
       "      <td>0.126164</td>\n",
       "      <td>-0.143103</td>\n",
       "      <td>0.140012</td>\n",
       "      <td>-0.117324</td>\n",
       "      <td>0.078215</td>\n",
       "      <td>-0.028159</td>\n",
       "      <td>-0.025839</td>\n",
       "      <td>1.0</td>\n",
       "    </tr>\n",
       "    <tr>\n",
       "      <th>595.0</th>\n",
       "      <td>0.190248</td>\n",
       "      <td>0.809752</td>\n",
       "      <td>-0.135900</td>\n",
       "      <td>0.111574</td>\n",
       "      <td>-0.074204</td>\n",
       "      <td>0.028159</td>\n",
       "      <td>0.021179</td>\n",
       "      <td>-0.068040</td>\n",
       "      <td>0.106947</td>\n",
       "      <td>-0.133351</td>\n",
       "      <td>0.144164</td>\n",
       "      <td>-0.138122</td>\n",
       "      <td>0.115933</td>\n",
       "      <td>-0.080190</td>\n",
       "      <td>0.035071</td>\n",
       "      <td>1.0</td>\n",
       "    </tr>\n",
       "    <tr>\n",
       "      <th>602.0</th>\n",
       "      <td>-0.129931</td>\n",
       "      <td>1.129931</td>\n",
       "      <td>-0.137418</td>\n",
       "      <td>0.117324</td>\n",
       "      <td>-0.085982</td>\n",
       "      <td>0.046396</td>\n",
       "      <td>-0.002362</td>\n",
       "      <td>-0.041899</td>\n",
       "      <td>0.082143</td>\n",
       "      <td>-0.114511</td>\n",
       "      <td>0.135900</td>\n",
       "      <td>-0.144260</td>\n",
       "      <td>0.138789</td>\n",
       "      <td>-0.120012</td>\n",
       "      <td>0.089729</td>\n",
       "      <td>1.0</td>\n",
       "    </tr>\n",
       "    <tr>\n",
       "      <th>609.0</th>\n",
       "      <td>-0.023312</td>\n",
       "      <td>1.023312</td>\n",
       "      <td>-0.138789</td>\n",
       "      <td>0.122572</td>\n",
       "      <td>-0.096931</td>\n",
       "      <td>0.063839</td>\n",
       "      <td>-0.025839</td>\n",
       "      <td>-0.014148</td>\n",
       "      <td>0.053046</td>\n",
       "      <td>-0.087867</td>\n",
       "      <td>0.115933</td>\n",
       "      <td>-0.135086</td>\n",
       "      <td>0.143855</td>\n",
       "      <td>-0.141564</td>\n",
       "      <td>0.128391</td>\n",
       "      <td>1.0</td>\n",
       "    </tr>\n",
       "    <tr>\n",
       "      <th>616.0</th>\n",
       "      <td>-0.001025</td>\n",
       "      <td>1.001025</td>\n",
       "      <td>-0.140012</td>\n",
       "      <td>0.127294</td>\n",
       "      <td>-0.106947</td>\n",
       "      <td>0.080190</td>\n",
       "      <td>-0.048626</td>\n",
       "      <td>0.014148</td>\n",
       "      <td>0.021179</td>\n",
       "      <td>-0.055236</td>\n",
       "      <td>0.085982</td>\n",
       "      <td>-0.111574</td>\n",
       "      <td>0.130480</td>\n",
       "      <td>-0.141564</td>\n",
       "      <td>0.144164</td>\n",
       "      <td>1.0</td>\n",
       "    </tr>\n",
       "    <tr>\n",
       "      <th>623.0</th>\n",
       "      <td>0.000000</td>\n",
       "      <td>1.000000</td>\n",
       "      <td>-0.141084</td>\n",
       "      <td>0.131472</td>\n",
       "      <td>-0.115933</td>\n",
       "      <td>0.095168</td>\n",
       "      <td>-0.070114</td>\n",
       "      <td>0.041899</td>\n",
       "      <td>-0.011795</td>\n",
       "      <td>-0.018840</td>\n",
       "      <td>0.048626</td>\n",
       "      <td>-0.076220</td>\n",
       "      <td>0.100378</td>\n",
       "      <td>-0.120012</td>\n",
       "      <td>0.134236</td>\n",
       "      <td>1.0</td>\n",
       "    </tr>\n",
       "    <tr>\n",
       "      <th>630.0</th>\n",
       "      <td>0.000000</td>\n",
       "      <td>1.000000</td>\n",
       "      <td>-0.142006</td>\n",
       "      <td>0.135086</td>\n",
       "      <td>-0.123802</td>\n",
       "      <td>0.108519</td>\n",
       "      <td>-0.089729</td>\n",
       "      <td>0.068040</td>\n",
       "      <td>-0.044153</td>\n",
       "      <td>0.018840</td>\n",
       "      <td>0.007082</td>\n",
       "      <td>-0.032776</td>\n",
       "      <td>0.057410</td>\n",
       "      <td>-0.080190</td>\n",
       "      <td>0.100378</td>\n",
       "      <td>1.0</td>\n",
       "    </tr>\n",
       "    <tr>\n",
       "      <th>637.0</th>\n",
       "      <td>0.809178</td>\n",
       "      <td>0.190822</td>\n",
       "      <td>-0.142775</td>\n",
       "      <td>0.138122</td>\n",
       "      <td>-0.130480</td>\n",
       "      <td>0.120012</td>\n",
       "      <td>-0.106947</td>\n",
       "      <td>0.091567</td>\n",
       "      <td>-0.074204</td>\n",
       "      <td>0.055236</td>\n",
       "      <td>-0.035071</td>\n",
       "      <td>0.014148</td>\n",
       "      <td>0.007082</td>\n",
       "      <td>-0.028159</td>\n",
       "      <td>0.048626</td>\n",
       "      <td>1.0</td>\n",
       "    </tr>\n",
       "    <tr>\n",
       "      <th>644.0</th>\n",
       "      <td>1.129985</td>\n",
       "      <td>-0.129985</td>\n",
       "      <td>-0.143392</td>\n",
       "      <td>0.140567</td>\n",
       "      <td>-0.135900</td>\n",
       "      <td>0.129452</td>\n",
       "      <td>-0.121308</td>\n",
       "      <td>0.111574</td>\n",
       "      <td>-0.100378</td>\n",
       "      <td>0.087867</td>\n",
       "      <td>-0.074204</td>\n",
       "      <td>0.059569</td>\n",
       "      <td>-0.044153</td>\n",
       "      <td>0.028159</td>\n",
       "      <td>-0.011795</td>\n",
       "      <td>1.0</td>\n",
       "    </tr>\n",
       "    <tr>\n",
       "      <th>651.0</th>\n",
       "      <td>1.023342</td>\n",
       "      <td>-0.023342</td>\n",
       "      <td>-0.143855</td>\n",
       "      <td>0.142410</td>\n",
       "      <td>-0.140012</td>\n",
       "      <td>0.136678</td>\n",
       "      <td>-0.132429</td>\n",
       "      <td>0.127294</td>\n",
       "      <td>-0.121308</td>\n",
       "      <td>0.114511</td>\n",
       "      <td>-0.106947</td>\n",
       "      <td>0.098668</td>\n",
       "      <td>-0.089729</td>\n",
       "      <td>0.080190</td>\n",
       "      <td>-0.070114</td>\n",
       "      <td>1.0</td>\n",
       "    </tr>\n",
       "    <tr>\n",
       "      <th>658.0</th>\n",
       "      <td>1.001027</td>\n",
       "      <td>-0.001027</td>\n",
       "      <td>-0.144164</td>\n",
       "      <td>0.143643</td>\n",
       "      <td>-0.142775</td>\n",
       "      <td>0.141564</td>\n",
       "      <td>-0.140012</td>\n",
       "      <td>0.138122</td>\n",
       "      <td>-0.135900</td>\n",
       "      <td>0.133351</td>\n",
       "      <td>-0.130480</td>\n",
       "      <td>0.127294</td>\n",
       "      <td>-0.123802</td>\n",
       "      <td>0.120012</td>\n",
       "      <td>-0.115933</td>\n",
       "      <td>1.0</td>\n",
       "    </tr>\n",
       "    <tr>\n",
       "      <th>665.0</th>\n",
       "      <td>1.000000</td>\n",
       "      <td>0.000000</td>\n",
       "      <td>-0.144318</td>\n",
       "      <td>0.144260</td>\n",
       "      <td>-0.144164</td>\n",
       "      <td>0.144029</td>\n",
       "      <td>-0.143855</td>\n",
       "      <td>0.143643</td>\n",
       "      <td>-0.143392</td>\n",
       "      <td>0.143103</td>\n",
       "      <td>-0.142775</td>\n",
       "      <td>0.142410</td>\n",
       "      <td>-0.142006</td>\n",
       "      <td>0.141564</td>\n",
       "      <td>-0.141084</td>\n",
       "      <td>1.0</td>\n",
       "    </tr>\n",
       "  </tbody>\n",
       "</table>\n",
       "<p>96 rows × 16 columns</p>\n",
       "</div>"
      ],
      "text/plain": [
       "         active      rest   drift_1   drift_2   drift_3   drift_4   drift_5  \\\n",
       "0.0    0.000000  0.000000  0.144318  0.144260  0.144164  0.144029  0.143855   \n",
       "7.0    0.000000  0.817784  0.144164  0.143643  0.142775  0.141564  0.140012   \n",
       "14.0   0.000000  1.129175  0.143855  0.142410  0.140012  0.136678  0.132429   \n",
       "21.0   0.000000  1.022902  0.143392  0.140567  0.135900  0.129452  0.121308   \n",
       "28.0   0.000000  1.000997  0.142775  0.138122  0.130480  0.120012  0.106947   \n",
       "35.0   0.000000  1.000000  0.142006  0.135086  0.123802  0.108519  0.089729   \n",
       "42.0   0.000000  1.000000  0.141084  0.131472  0.115933  0.095168  0.070114   \n",
       "49.0   0.817210  0.182790  0.140012  0.127294  0.106947  0.080190  0.048626   \n",
       "56.0   1.129229 -0.129229  0.138789  0.122572  0.096931  0.063839  0.025839   \n",
       "63.0   1.022931 -0.022931  0.137418  0.117324  0.085982  0.046396  0.002362   \n",
       "70.0   1.000999 -0.000999  0.135900  0.111574  0.074204  0.028159 -0.021179   \n",
       "77.0   1.000000  0.000000  0.134236  0.105347  0.061712  0.009440 -0.044153   \n",
       "84.0   1.000000  0.000000  0.132429  0.098668  0.048626 -0.009440 -0.065948   \n",
       "91.0   0.183364  0.816636  0.130480  0.091567  0.035071 -0.028159 -0.085982   \n",
       "98.0  -0.129283  1.129283  0.128391  0.084073  0.021179 -0.046396 -0.103718   \n",
       "105.0 -0.022960  1.022960  0.126164  0.076220  0.007082 -0.063839 -0.118684   \n",
       "112.0 -0.001001  1.001001  0.123802  0.068040 -0.007082 -0.080190 -0.130480   \n",
       "119.0  0.000000  1.000000  0.121308  0.059569 -0.021179 -0.095168 -0.138789   \n",
       "126.0  0.000000  1.000000  0.118684  0.050843 -0.035071 -0.108519 -0.143392   \n",
       "133.0  0.816063  0.183937  0.115933  0.041899 -0.048626 -0.120012 -0.144164   \n",
       "140.0  1.129337 -0.129337  0.113058  0.032776 -0.061712 -0.129452 -0.141084   \n",
       "147.0  1.022990 -0.022990  0.110061  0.023512 -0.074204 -0.136678 -0.134236   \n",
       "154.0  1.001003 -0.001003  0.106947  0.014148 -0.085982 -0.141564 -0.123802   \n",
       "161.0  1.000000  0.000000  0.103718  0.004723 -0.096931 -0.144029 -0.110061   \n",
       "168.0  1.000000  0.000000  0.100378 -0.004723 -0.106947 -0.144029 -0.093380   \n",
       "175.0  0.184511  0.815489  0.096931 -0.014148 -0.115933 -0.141564 -0.074204   \n",
       "182.0 -0.129391  1.129391  0.093380 -0.023512 -0.123802 -0.136678 -0.053046   \n",
       "189.0 -0.023019  1.023019  0.089729 -0.032776 -0.130480 -0.129452 -0.030471   \n",
       "196.0 -0.001005  1.001005  0.085982 -0.041899 -0.135900 -0.120012 -0.007082   \n",
       "203.0  0.000000  1.000000  0.082143 -0.050843 -0.140012 -0.108519  0.016496   \n",
       "...         ...       ...       ...       ...       ...       ...       ...   \n",
       "462.0  0.000000  1.000000 -0.082143 -0.050843  0.140012 -0.108519 -0.016496   \n",
       "469.0  0.811473  0.188527 -0.085982 -0.041899  0.135900 -0.120012  0.007082   \n",
       "476.0  1.129769 -0.129769 -0.089729 -0.032776  0.130480 -0.129452  0.030471   \n",
       "483.0  1.023224 -0.023224 -0.093380 -0.023512  0.123802 -0.136678  0.053046   \n",
       "490.0  1.001019 -0.001019 -0.096931 -0.014148  0.115933 -0.141564  0.074204   \n",
       "497.0  1.000000  0.000000 -0.100378 -0.004723  0.106947 -0.144029  0.093380   \n",
       "504.0  1.000000  0.000000 -0.103718  0.004723  0.096931 -0.144029  0.110061   \n",
       "511.0  0.189101  0.810899 -0.106947  0.014148  0.085982 -0.141564  0.123802   \n",
       "518.0 -0.129823  1.129823 -0.110061  0.023512  0.074204 -0.136678  0.134236   \n",
       "525.0 -0.023254  1.023254 -0.113058  0.032776  0.061712 -0.129452  0.141084   \n",
       "532.0 -0.001021  1.001021 -0.115933  0.041899  0.048626 -0.120012  0.144164   \n",
       "539.0  0.000000  1.000000 -0.118684  0.050843  0.035071 -0.108519  0.143392   \n",
       "546.0  0.000000  1.000000 -0.121308  0.059569  0.021179 -0.095168  0.138789   \n",
       "553.0  0.810325  0.189675 -0.123802  0.068040  0.007082 -0.080190  0.130480   \n",
       "560.0  1.129877 -0.129877 -0.126164  0.076220 -0.007082 -0.063839  0.118684   \n",
       "567.0  1.023283 -0.023283 -0.128391  0.084073 -0.021179 -0.046396  0.103718   \n",
       "574.0  1.001023 -0.001023 -0.130480  0.091567 -0.035071 -0.028159  0.085982   \n",
       "581.0  1.000000  0.000000 -0.132429  0.098668 -0.048626 -0.009440  0.065948   \n",
       "588.0  1.000000  0.000000 -0.134236  0.105347 -0.061712  0.009440  0.044153   \n",
       "595.0  0.190248  0.809752 -0.135900  0.111574 -0.074204  0.028159  0.021179   \n",
       "602.0 -0.129931  1.129931 -0.137418  0.117324 -0.085982  0.046396 -0.002362   \n",
       "609.0 -0.023312  1.023312 -0.138789  0.122572 -0.096931  0.063839 -0.025839   \n",
       "616.0 -0.001025  1.001025 -0.140012  0.127294 -0.106947  0.080190 -0.048626   \n",
       "623.0  0.000000  1.000000 -0.141084  0.131472 -0.115933  0.095168 -0.070114   \n",
       "630.0  0.000000  1.000000 -0.142006  0.135086 -0.123802  0.108519 -0.089729   \n",
       "637.0  0.809178  0.190822 -0.142775  0.138122 -0.130480  0.120012 -0.106947   \n",
       "644.0  1.129985 -0.129985 -0.143392  0.140567 -0.135900  0.129452 -0.121308   \n",
       "651.0  1.023342 -0.023342 -0.143855  0.142410 -0.140012  0.136678 -0.132429   \n",
       "658.0  1.001027 -0.001027 -0.144164  0.143643 -0.142775  0.141564 -0.140012   \n",
       "665.0  1.000000  0.000000 -0.144318  0.144260 -0.144164  0.144029 -0.143855   \n",
       "\n",
       "        drift_6   drift_7   drift_8   drift_9  drift_10  drift_11  drift_12  \\\n",
       "0.0    0.143643  0.143392  0.143103  0.142775  0.142410  0.142006  0.141564   \n",
       "7.0    0.138122  0.135900  0.133351  0.130480  0.127294  0.123802  0.120012   \n",
       "14.0   0.127294  0.121308  0.114511  0.106947  0.098668  0.089729  0.080190   \n",
       "21.0   0.111574  0.100378  0.087867  0.074204  0.059569  0.044153  0.028159   \n",
       "28.0   0.091567  0.074204  0.055236  0.035071  0.014148 -0.007082 -0.028159   \n",
       "35.0   0.068040  0.044153  0.018840 -0.007082 -0.032776 -0.057410 -0.080190   \n",
       "42.0   0.041899  0.011795 -0.018840 -0.048626 -0.076220 -0.100378 -0.120012   \n",
       "49.0   0.014148 -0.021179 -0.055236 -0.085982 -0.111574 -0.130480 -0.141564   \n",
       "56.0  -0.014148 -0.053046 -0.087867 -0.115933 -0.135086 -0.143855 -0.141564   \n",
       "63.0  -0.041899 -0.082143 -0.114511 -0.135900 -0.144260 -0.138789 -0.120012   \n",
       "70.0  -0.068040 -0.106947 -0.133351 -0.144164 -0.138122 -0.115933 -0.080190   \n",
       "77.0  -0.091567 -0.126164 -0.143103 -0.140012 -0.117324 -0.078215 -0.028159   \n",
       "84.0  -0.111574 -0.138789 -0.143103 -0.123802 -0.084073 -0.030471  0.028159   \n",
       "91.0  -0.127294 -0.144164 -0.133351 -0.096931 -0.041899  0.021179  0.080190   \n",
       "98.0  -0.138122 -0.142006 -0.114511 -0.061712  0.004723  0.070114  0.120012   \n",
       "105.0 -0.143643 -0.132429 -0.087867 -0.021179  0.050843  0.110061  0.141564   \n",
       "112.0 -0.143643 -0.115933 -0.055236  0.021179  0.091567  0.135900  0.141564   \n",
       "119.0 -0.138122 -0.093380 -0.018840  0.061712  0.122572  0.144318  0.120012   \n",
       "126.0 -0.127294 -0.065948  0.018840  0.096931  0.140567  0.134236  0.080190   \n",
       "133.0 -0.111574 -0.035071  0.055236  0.123802  0.143643  0.106947  0.028159   \n",
       "140.0 -0.091567 -0.002362  0.087867  0.140012  0.131472  0.065948 -0.028159   \n",
       "147.0 -0.068040  0.030471  0.114511  0.144164  0.105347  0.016496 -0.080190   \n",
       "154.0 -0.041899  0.061712  0.133351  0.135900  0.068040 -0.035071 -0.120012   \n",
       "161.0 -0.014148  0.089729  0.143103  0.115933  0.023512 -0.082143 -0.141564   \n",
       "168.0  0.014148  0.113058  0.143103  0.085982 -0.023512 -0.118684 -0.141564   \n",
       "175.0  0.041899  0.130480  0.133351  0.048626 -0.068040 -0.140012 -0.120012   \n",
       "182.0  0.068040  0.141084  0.114511  0.007082 -0.105347 -0.143392 -0.080190   \n",
       "189.0  0.091567  0.144318  0.087867 -0.035071 -0.131472 -0.128391 -0.028159   \n",
       "196.0  0.111574  0.140012  0.055236 -0.074204 -0.143643 -0.096931  0.028159   \n",
       "203.0  0.127294  0.128391  0.018840 -0.106947 -0.140567 -0.053046  0.080190   \n",
       "...         ...       ...       ...       ...       ...       ...       ...   \n",
       "462.0  0.127294 -0.128391  0.018840  0.106947 -0.140567  0.053046  0.080190   \n",
       "469.0  0.111574 -0.140012  0.055236  0.074204 -0.143643  0.096931  0.028159   \n",
       "476.0  0.091567 -0.144318  0.087867  0.035071 -0.131472  0.128391 -0.028159   \n",
       "483.0  0.068040 -0.141084  0.114511 -0.007082 -0.105347  0.143392 -0.080190   \n",
       "490.0  0.041899 -0.130480  0.133351 -0.048626 -0.068040  0.140012 -0.120012   \n",
       "497.0  0.014148 -0.113058  0.143103 -0.085982 -0.023512  0.118684 -0.141564   \n",
       "504.0 -0.014148 -0.089729  0.143103 -0.115933  0.023512  0.082143 -0.141564   \n",
       "511.0 -0.041899 -0.061712  0.133351 -0.135900  0.068040  0.035071 -0.120012   \n",
       "518.0 -0.068040 -0.030471  0.114511 -0.144164  0.105347 -0.016496 -0.080190   \n",
       "525.0 -0.091567  0.002362  0.087867 -0.140012  0.131472 -0.065948 -0.028159   \n",
       "532.0 -0.111574  0.035071  0.055236 -0.123802  0.143643 -0.106947  0.028159   \n",
       "539.0 -0.127294  0.065948  0.018840 -0.096931  0.140567 -0.134236  0.080190   \n",
       "546.0 -0.138122  0.093380 -0.018840 -0.061712  0.122572 -0.144318  0.120012   \n",
       "553.0 -0.143643  0.115933 -0.055236 -0.021179  0.091567 -0.135900  0.141564   \n",
       "560.0 -0.143643  0.132429 -0.087867  0.021179  0.050843 -0.110061  0.141564   \n",
       "567.0 -0.138122  0.142006 -0.114511  0.061712  0.004723 -0.070114  0.120012   \n",
       "574.0 -0.127294  0.144164 -0.133351  0.096931 -0.041899 -0.021179  0.080190   \n",
       "581.0 -0.111574  0.138789 -0.143103  0.123802 -0.084073  0.030471  0.028159   \n",
       "588.0 -0.091567  0.126164 -0.143103  0.140012 -0.117324  0.078215 -0.028159   \n",
       "595.0 -0.068040  0.106947 -0.133351  0.144164 -0.138122  0.115933 -0.080190   \n",
       "602.0 -0.041899  0.082143 -0.114511  0.135900 -0.144260  0.138789 -0.120012   \n",
       "609.0 -0.014148  0.053046 -0.087867  0.115933 -0.135086  0.143855 -0.141564   \n",
       "616.0  0.014148  0.021179 -0.055236  0.085982 -0.111574  0.130480 -0.141564   \n",
       "623.0  0.041899 -0.011795 -0.018840  0.048626 -0.076220  0.100378 -0.120012   \n",
       "630.0  0.068040 -0.044153  0.018840  0.007082 -0.032776  0.057410 -0.080190   \n",
       "637.0  0.091567 -0.074204  0.055236 -0.035071  0.014148  0.007082 -0.028159   \n",
       "644.0  0.111574 -0.100378  0.087867 -0.074204  0.059569 -0.044153  0.028159   \n",
       "651.0  0.127294 -0.121308  0.114511 -0.106947  0.098668 -0.089729  0.080190   \n",
       "658.0  0.138122 -0.135900  0.133351 -0.130480  0.127294 -0.123802  0.120012   \n",
       "665.0  0.143643 -0.143392  0.143103 -0.142775  0.142410 -0.142006  0.141564   \n",
       "\n",
       "       drift_13  constant  \n",
       "0.0    0.141084       1.0  \n",
       "7.0    0.115933       1.0  \n",
       "14.0   0.070114       1.0  \n",
       "21.0   0.011795       1.0  \n",
       "28.0  -0.048626       1.0  \n",
       "35.0  -0.100378       1.0  \n",
       "42.0  -0.134236       1.0  \n",
       "49.0  -0.144164       1.0  \n",
       "56.0  -0.128391       1.0  \n",
       "63.0  -0.089729       1.0  \n",
       "70.0  -0.035071       1.0  \n",
       "77.0   0.025839       1.0  \n",
       "84.0   0.082143       1.0  \n",
       "91.0   0.123802       1.0  \n",
       "98.0   0.143392       1.0  \n",
       "105.0  0.137418       1.0  \n",
       "112.0  0.106947       1.0  \n",
       "119.0  0.057410       1.0  \n",
       "126.0 -0.002362       1.0  \n",
       "133.0 -0.061712       1.0  \n",
       "140.0 -0.110061       1.0  \n",
       "147.0 -0.138789       1.0  \n",
       "154.0 -0.142775       1.0  \n",
       "161.0 -0.121308       1.0  \n",
       "168.0 -0.078215       1.0  \n",
       "175.0 -0.021179       1.0  \n",
       "182.0  0.039633       1.0  \n",
       "189.0  0.093380       1.0  \n",
       "196.0  0.130480       1.0  \n",
       "203.0  0.144318       1.0  \n",
       "...         ...       ...  \n",
       "462.0 -0.144318       1.0  \n",
       "469.0 -0.130480       1.0  \n",
       "476.0 -0.093380       1.0  \n",
       "483.0 -0.039633       1.0  \n",
       "490.0  0.021179       1.0  \n",
       "497.0  0.078215       1.0  \n",
       "504.0  0.121308       1.0  \n",
       "511.0  0.142775       1.0  \n",
       "518.0  0.138789       1.0  \n",
       "525.0  0.110061       1.0  \n",
       "532.0  0.061712       1.0  \n",
       "539.0  0.002362       1.0  \n",
       "546.0 -0.057410       1.0  \n",
       "553.0 -0.106947       1.0  \n",
       "560.0 -0.137418       1.0  \n",
       "567.0 -0.143392       1.0  \n",
       "574.0 -0.123802       1.0  \n",
       "581.0 -0.082143       1.0  \n",
       "588.0 -0.025839       1.0  \n",
       "595.0  0.035071       1.0  \n",
       "602.0  0.089729       1.0  \n",
       "609.0  0.128391       1.0  \n",
       "616.0  0.144164       1.0  \n",
       "623.0  0.134236       1.0  \n",
       "630.0  0.100378       1.0  \n",
       "637.0  0.048626       1.0  \n",
       "644.0 -0.011795       1.0  \n",
       "651.0 -0.070114       1.0  \n",
       "658.0 -0.115933       1.0  \n",
       "665.0 -0.141084       1.0  \n",
       "\n",
       "[96 rows x 16 columns]"
      ]
     },
     "execution_count": 19,
     "metadata": {},
     "output_type": "execute_result"
    }
   ],
   "source": [
    "design_matrix"
   ]
  },
  {
   "cell_type": "markdown",
   "metadata": {},
   "source": [
    "Before we go any further, let's quickly save the design matrix!"
   ]
  },
  {
   "cell_type": "code",
   "execution_count": 20,
   "metadata": {},
   "outputs": [],
   "source": [
    "import os\n",
    "outdir = 'results'\n",
    "if not os.path.exists(outdir):\n",
    "    os.mkdir(outdir)\n",
    "\n",
    "from os.path import join\n",
    "plot_design_matrix(\n",
    "    design_matrix, output_file=join(outdir, 'design_matrix.png'))"
   ]
  },
  {
   "cell_type": "markdown",
   "metadata": {},
   "source": [
    "Now, in this design, we had regular periods of activity and rest which were alternated in intervals of $42$ seconds. If we let `1` represent activity and `0` represent rest we might expect that this has been coded into our linear model as something like this."
   ]
  },
  {
   "cell_type": "code",
   "execution_count": 21,
   "metadata": {},
   "outputs": [
    {
     "data": {
      "image/png": "[encoded data removed]",
      "text/plain": [
       "<Figure size 432x288 with 1 Axes>"
      ]
     },
     "metadata": {
      "needs_background": "light"
     },
     "output_type": "display_data"
    }
   ],
   "source": [
    "# Read in example file\n",
    "boxcar = pd.read_csv(os.path.join('boxcar.csv'),index_col=0)\n",
    "\n",
    "plt.plot(boxcar)\n",
    "plt.xlabel('scan')\n",
    "plt.title('Expected Auditory Response')\n",
    "plt.show()"
   ]
  },
  {
   "cell_type": "markdown",
   "metadata": {},
   "source": [
    "However, if we look at our design matrix, the first column corresponds to the `active` periods but it looks like this:"
   ]
  },
  {
   "cell_type": "code",
   "execution_count": 22,
   "metadata": {},
   "outputs": [
    {
     "data": {
      "image/png": "[encoded data removed]",
      "text/plain": [
       "<Figure size 432x288 with 1 Axes>"
      ]
     },
     "metadata": {
      "needs_background": "light"
     },
     "output_type": "display_data"
    }
   ],
   "source": [
    "import matplotlib.pyplot as plt\n",
    "plt.plot(design_matrix['active'])\n",
    "plt.xlabel('scan')\n",
    "plt.title('Expected Auditory Response')\n",
    "plt.show()"
   ]
  },
  {
   "cell_type": "markdown",
   "metadata": {},
   "source": [
    "What is happening here? Well, as we mentioned before the brain doesn't just switch \"on\" and \"off\" in a binary fashion. \n",
    "\n",
    "When you engage some part of the brain in cognitive function, it requires oxygen and glucose, which are transported in the blood. Your arteries are able to transport this oxygen and glucose to the required brain area very quickly but they do it in an inefficient way. At first, they overshoot a little and send a bit too much (hence the peaks in the above image). After this, the process levels out and the arteries provide the required amount of oxygen and glucose (hence the flat regions after each peak). Finally, when they are no longer required to do so they stop sending blood and glucose, but again they do this in a slightly inefficient manner and undershoot (hence the dips below after each period of activity). What we are describing here is the Heamodynamic Response Function (HRF) which we mentioned earlier when we set up the `FirstLevelModel` object.\n",
    "\n",
    "In other words, the above graph isn't just a model of our experimental design, it is a model of how we expect the brain to be reacting to the experimental design. \n",
    "\n",
    "You can see the same behaviour in the second column of our design matrix $X$, which describes what we might expect brain regions to be doing if they were responding to the `rest` periods."
   ]
  },
  {
   "cell_type": "code",
   "execution_count": 23,
   "metadata": {
    "scrolled": true
   },
   "outputs": [
    {
     "data": {
      "image/png": "[encoded data removed]",
      "text/plain": [
       "<Figure size 432x288 with 1 Axes>"
      ]
     },
     "metadata": {
      "needs_background": "light"
     },
     "output_type": "display_data"
    }
   ],
   "source": [
    "plt.plot(design_matrix['rest'])\n",
    "plt.xlabel('scan')\n",
    "plt.title('Expected Rest')\n",
    "plt.show()"
   ]
  },
  {
   "cell_type": "markdown",
   "metadata": {},
   "source": [
    "> Mathematicaally speaking, the above images are creating by [convolving](https://en.wikipedia.org/wiki/Convolution) the binary graph two boxes above with a predefined form of the HRF which looks something like [this](https://www.researchgate.net/profile/Antti-Korvenoja/publication/47934203/figure/fig5/AS:667768873570322@1536219914860/The-canonical-hemodynamic-response-function-as-in-SPM99-software.png)."
   ]
  },
  {
   "cell_type": "markdown",
   "metadata": {},
   "source": [
    "After the first two columns we have our cosine bases, which handle [drift](https://www.brainvoyager.com/bvqx/doc/UsersGuide/Preprocessing/TemporalHighPassFiltering.html) in the data. Here's an example of two of these functions."
   ]
  },
  {
   "cell_type": "code",
   "execution_count": 24,
   "metadata": {},
   "outputs": [
    {
     "data": {
      "image/png": "[encoded data removed]",
      "text/plain": [
       "<Figure size 432x288 with 1 Axes>"
      ]
     },
     "metadata": {
      "needs_background": "light"
     },
     "output_type": "display_data"
    }
   ],
   "source": [
    "plt.xlabel('scan')\n",
    "plt.title('Long term drift')\n",
    "plt.plot(design_matrix['drift_1'])\n",
    "plt.show()"
   ]
  },
  {
   "cell_type": "code",
   "execution_count": 25,
   "metadata": {},
   "outputs": [
    {
     "data": {
      "image/png": "[encoded data removed]",
      "text/plain": [
       "<Figure size 432x288 with 1 Axes>"
      ]
     },
     "metadata": {
      "needs_background": "light"
     },
     "output_type": "display_data"
    }
   ],
   "source": [
    "plt.xlabel('scan')\n",
    "plt.title('Shorter term drift')\n",
    "plt.plot(design_matrix['drift_9'])\n",
    "plt.show()"
   ]
  },
  {
   "cell_type": "markdown",
   "metadata": {},
   "source": [
    "Note how in both of these images the period of oscillation of the `cosine` functions is much larger than in our `active` and `rest` columns. For this reason, if we saw any behaviour like this in the response at a voxel we would expect that such behaviour is nothing to do with our experimental design but is instead related to other physiological factors like heart rate, breathing and slow drifts in the scanner signal.\n",
    "\n",
    "Including these oscillating functions as columns in $X$ allows us to pick apart which periodic behaviours in our data are due to the experiment and which are due to other factors during analysis."
   ]
  },
  {
   "cell_type": "markdown",
   "metadata": {},
   "source": [
    "### Creating a Contrast Vector"
   ]
  },
  {
   "cell_type": "markdown",
   "metadata": {},
   "source": [
    "So far we have created a `FirstLevelModel` object called `fmri_glm` and told it to fit our model. Now, we shall move onto null-hypothesis testing. \n",
    "\n",
    "Often in imaging studies, research questions can be expressed as null hypothesis tests of the below form:\n",
    "\n",
    "$$H_0: L\\beta_v = 0, \\quad H_1 : L\\beta_v \\neq 0$$\n",
    "    \n",
    "where $L$ is a fixed and known $(1 \\times p)$-sized contrast vector specifying a hypothesis, or prior belief, about linear relationships between the elements of $\\beta$, upon which an inference is to be made. Let's look at a few examples for `L`."
   ]
  },
  {
   "cell_type": "code",
   "execution_count": 29,
   "metadata": {},
   "outputs": [],
   "source": [
    "import numpy as np\n",
    "\n",
    "L_A = np.array([1., 0., 0., 0., 0., 0., 0., 0., 0., 0., 0., 0., 0., 0., 0., 0.])\n",
    "L_R = np.array([0., 1., 0., 0., 0., 0., 0., 0., 0., 0., 0., 0., 0., 0., 0., 0.])"
   ]
  },
  {
   "cell_type": "markdown",
   "metadata": {},
   "source": [
    "Here, we have two contrast vectors; $L_{A}$ and $L_{R}$. Each contrast vector contains exactly one `1` and `0` everywhere else. \n",
    "\n",
    "By basic matrix multiplication, we can see that:\n",
    "\n",
    "$$L_{A}\\beta_v= \\begin{bmatrix} 1, & 0, & ..., & 0 \\end{bmatrix}\\begin{bmatrix}\\beta_{1, v}\\\\ \\beta_{2, v}\\\\ \\vdots \\\\ \\beta_{p, v}\\end{bmatrix}=\\beta_{1,v}$$\n",
    "\n",
    "where $\\beta_{i, v}$ is the $i^{th}$ element of $\\beta_{v}$. In other words, if we test the hypothesis that $L_{A}\\beta_v$ is equal to zero, we are in fact testing whether the first element of $\\beta_v$, $\\beta_{1,v}$, is zero.\n",
    "\n",
    "If we look back at our design matrix $X$, we can see that the first element of $\\beta_v$ corresponds to the `Active` column in the design matrix. This means that testing the hypothesis $L_{A}\\beta_v=0$ is really equivalent to asking something along the lines of \"did the participant being active in the task have a non-zero effect on their brain function (at voxel $v$)?\".\n",
    "\n",
    "Make sure you understand this before moving forward. If you have any questions feel free to ask one of the tutors! Check your understanding by trying to work out which hypothesis $L_R$ represents."
   ]
  },
  {
   "cell_type": "markdown",
   "metadata": {},
   "source": [
    "Often we are interested in more complex questions, like \"where was there a difference in brain activation between the subject responding to the task and being at rest?\". This can be represented using a contrast vector like so;"
   ]
  },
  {
   "cell_type": "code",
   "execution_count": 31,
   "metadata": {},
   "outputs": [],
   "source": [
    "L_active_minus_rest = L_A - L_R"
   ]
  },
  {
   "cell_type": "markdown",
   "metadata": {},
   "source": [
    "This is the contrast vector we shall be investigating in the following sections. To visualize the contrast vector `nilearn` has a nice feature called `plot_contrast_matrix`. Try it out below!"
   ]
  },
  {
   "cell_type": "code",
   "execution_count": 32,
   "metadata": {},
   "outputs": [
    {
     "data": {
      "text/plain": [
       "<matplotlib.axes._subplots.AxesSubplot at 0x7f54f9079940>"
      ]
     },
     "execution_count": 32,
     "metadata": {},
     "output_type": "execute_result"
    },
    {
     "data": {
      "image/png": "[encoded data removed]",
      "text/plain": [
       "<Figure size 460.8x131.04 with 1 Axes>"
      ]
     },
     "metadata": {
      "needs_background": "light"
     },
     "output_type": "display_data"
    }
   ],
   "source": [
    "from nilearn.plotting import plot_contrast_matrix\n",
    "plot_contrast_matrix(L_active_minus_rest, design_matrix=design_matrix)"
   ]
  },
  {
   "cell_type": "markdown",
   "metadata": {},
   "source": [
    "### Computing Effect Sizes"
   ]
  },
  {
   "cell_type": "markdown",
   "metadata": {},
   "source": [
    "We are now ready to move onto creating images of our results!"
   ]
  },
  {
   "cell_type": "markdown",
   "metadata": {},
   "source": [
    "As we are testing to see whether there is statistical evidence that $L\\beta_v$ is non-zero at each voxel, it may of interest to look at an image of the values of $L\\hat{\\beta}_v$. We can do this using the `compute_contrast` function by setting the `output_type` to `effect_size`."
   ]
  },
  {
   "cell_type": "code",
   "execution_count": 33,
   "metadata": {},
   "outputs": [
    {
     "data": {
      "text/plain": [
       "<nilearn.plotting.displays.OrthoSlicer at 0x7f54f90a1198>"
      ]
     },
     "execution_count": 33,
     "metadata": {},
     "output_type": "execute_result"
    },
    {
     "data": {
      "image/png": "[encoded data removed]",
      "text/plain": [
       "<Figure size 525.6x187.2 with 5 Axes>"
      ]
     },
     "metadata": {},
     "output_type": "display_data"
    }
   ],
   "source": [
    "eff_map = fmri_glm.compute_contrast(L_active_minus_rest,\n",
    "                                    output_type='effect_size')\n",
    "\n",
    "plot_stat_map(eff_map, bg_img=mean_img, vmax=10, cut_coords=(0,0,40))"
   ]
  },
  {
   "cell_type": "markdown",
   "metadata": {},
   "source": [
    " > **Note:** We'll be using the `plot_stat_map` a fair bit in the next sections, if you aren't sure what's happening at any point, check the documentation [here](https://nilearn.github.io/modules/generated/nilearn.plotting.plot_stat_map.html)!"
   ]
  },
  {
   "cell_type": "markdown",
   "metadata": {},
   "source": [
    "This is nice, we can sort-of see something here! But the above image doesn't really tell us anything rigorous... and it only tells us half the story! How do we know that we are seeing large values of $L\\hat{\\beta}_v$ by chance? We need to know something about the variance of $L\\hat{\\beta}_v$ as well! \n",
    "\n",
    "Fortunately, nilearn let's us plot a map of $\\text{Var}(L\\hat{\\beta}_v)$ as well by setting `output_type` to `effect_variance`!"
   ]
  },
  {
   "cell_type": "code",
   "execution_count": 34,
   "metadata": {},
   "outputs": [
    {
     "data": {
      "text/plain": [
       "<nilearn.plotting.displays.OrthoSlicer at 0x7f54f91fe278>"
      ]
     },
     "execution_count": 34,
     "metadata": {},
     "output_type": "execute_result"
    },
    {
     "data": {
      "image/png": "[encoded data removed]",
      "text/plain": [
       "<Figure size 525.6x187.2 with 5 Axes>"
      ]
     },
     "metadata": {},
     "output_type": "display_data"
    }
   ],
   "source": [
    "var_map = fmri_glm.compute_contrast(active_minus_rest,\n",
    "                                    output_type='effect_variance')\n",
    "\n",
    "plot_stat_map(var_map, bg_img=mean_img,vmax=4, cut_coords=(0,0,40))"
   ]
  },
  {
   "cell_type": "markdown",
   "metadata": {},
   "source": [
    "This is good, as we can now see there is some pretty strong variance (in white) near the edge of the brain at the bottom of the image, suggesting we might not trust the estimates of $L\\beta$ in this region very much!"
   ]
  },
  {
   "cell_type": "markdown",
   "metadata": {},
   "source": [
    "> **Note:** Mathematically the equation for the variance of $L\\hat{\\beta}_v$ is given by;\n",
    ">\n",
    "> $$\\text{Var}(L\\hat{\\beta}_v)=L(X'\\Sigma_v^{-1}X)^{-1}L'$$\n",
    ">\n",
    "> However, in practice we don't know the value of $\\Sigma_v$ exactly, so this is replaced by $\\hat{\\Sigma}_v$."
   ]
  },
  {
   "cell_type": "markdown",
   "metadata": {},
   "source": [
    "All of this is very well and good but it's a bit handwavy. To really assess these results we need statistical tests..."
   ]
  },
  {
   "cell_type": "markdown",
   "metadata": {},
   "source": [
    "### Computing $Z$- and $t$-Statistic Maps"
   ]
  },
  {
   "cell_type": "markdown",
   "metadata": {},
   "source": [
    "$T$-statistics, $Z$-scores, \n"
   ]
  },
  {
   "cell_type": "markdown",
   "metadata": {},
   "source": [
    "$$t_v=\\frac{L\\hat{\\beta}_v}{\\sqrt{\\text{Var}(L\\hat{\\beta}_v)}}=\\frac{L\\hat{\\beta}_v}{\\sqrt{L(X'\\hat{\\Sigma}_v^{-1}X)^{-1}L'}}$$"
   ]
  },
  {
   "cell_type": "code",
   "execution_count": null,
   "metadata": {},
   "outputs": [],
   "source": [
    "t_map = fmri_glm.compute_contrast(active_minus_rest,\n",
    "                                  stat_type='t',\n",
    "                                  output_type='stat')\n",
    "\n",
    "plot_stat_map(t_map, bg_img=mean_img,vmax=6, cut_coords=(0,0,40))"
   ]
  },
  {
   "cell_type": "markdown",
   "metadata": {},
   "source": [
    "$$p_v = 2\\times (1-\\mathbb{P}[T_{n-p}<t_v|H_0])$$\n",
    "where $\\mathbb{P}[T_{n-p}<t_v|H_0]$ is cdf of student's $t$ distribution with $n-p$ degrees of freedom."
   ]
  },
  {
   "cell_type": "code",
   "execution_count": null,
   "metadata": {},
   "outputs": [],
   "source": [
    "p_map = fmri_glm.compute_contrast(active_minus_rest,\n",
    "                                  stat_type='t',\n",
    "                                  output_type='p_value')\n",
    "\n",
    "plot_stat_map(p_map, bg_img=mean_img, cut_coords=(0,0,40))"
   ]
  },
  {
   "cell_type": "markdown",
   "metadata": {},
   "source": [
    "Some people also like to look at maps of $Z$ values..."
   ]
  },
  {
   "cell_type": "markdown",
   "metadata": {},
   "source": [
    "$$Z_v = \\Phi^{-1}\\bigg(1-\\frac{p_v}{2}\\bigg)$$"
   ]
  },
  {
   "cell_type": "code",
   "execution_count": null,
   "metadata": {},
   "outputs": [],
   "source": [
    "z_map = fmri_glm.compute_contrast(active_minus_rest,\n",
    "                                  stat_type='t',\n",
    "                                  output_type='z_score')\n",
    "\n",
    "plot_stat_map(z_map, bg_img=mean_img, cut_coords=(0,0,40))"
   ]
  },
  {
   "cell_type": "markdown",
   "metadata": {},
   "source": [
    "Personally, I find this a little misleading, as you did not originally generate $Z$-scores but to each their own."
   ]
  },
  {
   "cell_type": "markdown",
   "metadata": {},
   "source": [
    "All very messy and hard to interpret at the moment so let's look at thresholding..."
   ]
  },
  {
   "cell_type": "markdown",
   "metadata": {},
   "source": [
    "### Thresholding your Results"
   ]
  },
  {
   "cell_type": "markdown",
   "metadata": {},
   "source": [
    "Can directly threshold - let's look at where effect size greater than 1. \n"
   ]
  },
  {
   "cell_type": "code",
   "execution_count": null,
   "metadata": {},
   "outputs": [],
   "source": [
    "plot_stat_map(eff_map, bg_img=mean_img, threshold=1,\n",
    "              display_mode='z', cut_coords=3, vmax=10, black_bg=True,\n",
    "              title='Active minus Rest (LB>1)')\n",
    "plt.show()"
   ]
  },
  {
   "cell_type": "markdown",
   "metadata": {},
   "source": [
    "Here, we are just looking at all of the voxels where we had that $L\\hat{\\beta}_v>1$. This is okay as a quick diagnostic to look at, but it is hardly rigorous and there's not all that much we can realistically read into it."
   ]
  },
  {
   "cell_type": "markdown",
   "metadata": {},
   "source": [
    "Uncorrected = BAD"
   ]
  },
  {
   "cell_type": "code",
   "execution_count": null,
   "metadata": {},
   "outputs": [],
   "source": [
    "from nilearn.glm import threshold_stats_img\n",
    "_, threshold = threshold_stats_img(z_map, alpha=.001, height_control=None)\n",
    "print('Uncorrected p<0.001 threshold: %.3f' % threshold)\n",
    "plot_stat_map(z_map, bg_img=mean_img, threshold=threshold,\n",
    "              display_mode='z', cut_coords=3, black_bg=True,\n",
    "              title='Active minus Rest (p<0.001)')\n",
    "plt.show()"
   ]
  },
  {
   "cell_type": "markdown",
   "metadata": {},
   "source": [
    "False positive rate"
   ]
  },
  {
   "cell_type": "code",
   "execution_count": null,
   "metadata": {},
   "outputs": [],
   "source": [
    "from nilearn.glm import threshold_stats_img\n",
    "_, threshold = threshold_stats_img(z_map, alpha=.001, height_control='fpr')\n",
    "print('Uncorrected p<0.001 threshold: %.3f' % threshold)\n",
    "plot_stat_map(z_map, bg_img=mean_img, threshold=threshold,\n",
    "              display_mode='z', cut_coords=3, black_bg=True,\n",
    "              title='Active minus Rest (p<0.001)')"
   ]
  },
  {
   "cell_type": "markdown",
   "metadata": {},
   "source": [
    "FPR controls #fps/(#fps + #tns)\n",
    "\n",
    "$$FPR = \\mathbb{E}\\bigg[\\frac{FP}{FP + TN}\\bigg]=\\alpha$$\n",
    "problem... lift from notebook\n"
   ]
  },
  {
   "cell_type": "markdown",
   "metadata": {},
   "source": [
    "So FWE"
   ]
  },
  {
   "cell_type": "code",
   "execution_count": null,
   "metadata": {},
   "outputs": [],
   "source": [
    "_, threshold = threshold_stats_img(\n",
    "    z_map, alpha=.05, height_control='bonferroni')\n",
    "print('Bonferroni-corrected, p<0.05 threshold: %.3f' % threshold)\n",
    "plot_stat_map(z_map, bg_img=mean_img, threshold=threshold,\n",
    "              display_mode='z', cut_coords=3, black_bg=True,\n",
    "              title='Active minus Rest (p<0.05, corrected)')"
   ]
  },
  {
   "cell_type": "markdown",
   "metadata": {},
   "source": [
    "This conservative; popular alternative = FDR"
   ]
  },
  {
   "cell_type": "code",
   "execution_count": null,
   "metadata": {},
   "outputs": [],
   "source": [
    "_, threshold = threshold_stats_img(z_map, alpha=.05, height_control='fdr')\n",
    "print('False Discovery rate = 0.05 threshold: %.3f' % threshold)\n",
    "plot_stat_map(z_map, bg_img=mean_img, threshold=threshold,\n",
    "              display_mode='z', cut_coords=3, black_bg=True,\n",
    "              title='Active minus Rest (fdr=0.05)')"
   ]
  },
  {
   "cell_type": "markdown",
   "metadata": {},
   "source": [
    "Though has been thrown into question a bit lately. \n",
    "\n",
    "$$FDR = \\mathbb{E}\\bigg[\\frac{FP}{FP + TP}\\bigg]=\\alpha$$"
   ]
  },
  {
   "cell_type": "markdown",
   "metadata": {},
   "source": [
    "Can also do cluster thresholding..."
   ]
  },
  {
   "cell_type": "code",
   "execution_count": null,
   "metadata": {},
   "outputs": [],
   "source": [
    "clean_map, threshold = threshold_stats_img(\n",
    "    z_map, alpha=.05, height_control='fdr', cluster_threshold=10)\n",
    "plot_stat_map(clean_map, bg_img=mean_img, threshold=threshold,\n",
    "              display_mode='z', cut_coords=3, black_bg=True,\n",
    "              title='Active minus Rest (fdr=0.05), clusters > 10 voxels')\n",
    "plt.show()\n"
   ]
  },
  {
   "cell_type": "markdown",
   "metadata": {},
   "source": [
    "Something that used to be popular but not so much now is to get a table of peaks and clusters"
   ]
  },
  {
   "cell_type": "code",
   "execution_count": null,
   "metadata": {},
   "outputs": [],
   "source": [
    "from nilearn.reporting import get_clusters_table\n",
    "table = get_clusters_table(z_map, stat_threshold=threshold,\n",
    "                           cluster_threshold=20)\n",
    "table"
   ]
  },
  {
   "cell_type": "markdown",
   "metadata": {},
   "source": [
    "### $F$-Tests"
   ]
  },
  {
   "cell_type": "markdown",
   "metadata": {},
   "source": [
    "$$F_v=\\frac{\\hat{\\beta}'_vL'[L(X'\\hat{\\Sigma}^{-1}_vX)^{-1}L']^{-1}L\\hat{\\beta}_v}{rank(L)}$$"
   ]
  },
  {
   "cell_type": "code",
   "execution_count": null,
   "metadata": {},
   "outputs": [],
   "source": [
    "import numpy as np\n",
    "effects_of_interest = np.vstack((conditions['active'], conditions['rest']))\n",
    "plot_contrast_matrix(effects_of_interest, design_matrix)\n",
    "plt.show()\n",
    "\n",
    "z_map = fmri_glm.compute_contrast(effects_of_interest,\n",
    "                                  output_type='z_score')"
   ]
  },
  {
   "cell_type": "markdown",
   "metadata": {},
   "source": [
    "# Exercises"
   ]
  },
  {
   "cell_type": "markdown",
   "metadata": {},
   "source": [
    "**Question 1:** Return to where you first fit the model, with `FirstLevelModel` and add a smoothing option, e.g. `smoothing_fwhm=6`, to add a 6 mm FWHM smoothing kernel. Try a range of values for this and compare the images you get as a result. What effect does increasing the smoothing have on your results? Why do you think this is?\n"
   ]
  },
  {
   "cell_type": "markdown",
   "metadata": {},
   "source": [
    "**Question 2:** investigate some other threshold options; play around - whats giving you best results and why? Be very careful with your answer. Explain why in practice you wouldn't repeatedly threshold in this way.\n"
   ]
  },
  {
   "cell_type": "markdown",
   "metadata": {},
   "source": [
    "**Question 3:** In the next notebook we will be looking at group.. conceptually this means... before moving on.. try and think a little about what might be different in a group vs subject analysis and why#"
   ]
  },
  {
   "cell_type": "markdown",
   "metadata": {},
   "source": [
    "**Extra:** https://nilearn.github.io/auto_examples/04_glm_first_level/plot_first_level_details.html\n",
    "https://nilearn.github.io/glm/first_level_model.html https://nilearn.github.io/glm/glm_intro.html"
   ]
  },
  {
   "cell_type": "code",
   "execution_count": null,
   "metadata": {},
   "outputs": [],
   "source": []
  }
 ],
 "metadata": {
  "kernelspec": {
   "display_name": "Python 3",
   "language": "python",
   "name": "python3"
  },
  "language_info": {
   "codemirror_mode": {
    "name": "ipython",
    "version": 3
   },
   "file_extension": ".py",
   "mimetype": "text/x-python",
   "name": "python",
   "nbconvert_exporter": "python",
   "pygments_lexer": "ipython3",
   "version": "3.7.2"
  }
 },
 "nbformat": 4,
 "nbformat_minor": 2
}
